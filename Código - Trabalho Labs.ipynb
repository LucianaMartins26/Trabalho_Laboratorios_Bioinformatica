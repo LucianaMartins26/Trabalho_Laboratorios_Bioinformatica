{
 "cells": [
  {
   "cell_type": "markdown",
   "metadata": {},
   "source": [
    "## Análise da sequência e das features presentes no NCBI"
   ]
  },
  {
   "cell_type": "code",
   "execution_count": null,
   "metadata": {},
   "outputs": [],
   "source": [
    "from Bio import SeqIO\n",
    "from Bio import Entrez\n",
    "\n",
    "Entrez.email = 'lucianacmartins8@gmail.com'\n",
    "search_handler = Entrez.esearch(db = \"nucleotide\", term = \"Homo sapiens[Orgn] AND NEUROG3[Gene]\")\n",
    "\n",
    "search_records = Entrez.read(search_handler)\n",
    "indices_CDS = []\n",
    "\n",
    "for record_id in search_records['IdList']:\n",
    "    fetch_handler = Entrez.efetch(db=\"nucleotide\", id=record_id, rettype=\"gb\", retmode=\"text\")\n",
    "    fetch_records = SeqIO.parse(fetch_handler, 'genbank')\n",
    "    record = SeqIO.read(fetch_handler, 'gb')\n",
    "    SeqIO.write(record, \"NEUROG3_file\", 'gb')"
   ]
  },
  {
   "cell_type": "code",
   "execution_count": null,
   "metadata": {},
   "outputs": [],
   "source": [
    "for record_id in search_records['IdList']:\n",
    "    fetch_handler = Entrez.efetch(db=\"nucleotide\", id=record_id, rettype=\"gb\", retmode=\"text\")\n",
    "    fetch_records = SeqIO.parse(fetch_handler, 'genbank')\n",
    "    \n",
    "    for record in fetch_records:\n",
    "        if record.id == \"NM_020999.4\":\n",
    "            print('Record accession: ', record.id, \"\\n\")\n",
    "            print('Record sequence length: ', len(record.seq), \"\\n\")\n",
    "            print('Record description: ', record.description, \"\\n\")\n",
    "            print('Record annotations: ', record.annotations, \"\\n\")\n",
    "            print('Record external references: ', record.dbxrefs, \"\\n\")\n",
    "            print('Record features count: ', len(record.features), \"\\n\")\n",
    "            print('Record features: ', record.features)\n",
    "        \n",
    "            indices_CDS = []\n",
    "            for n, feature in enumerate(record.features):\n",
    "                if feature.type == \"CDS\":\n",
    "                    indices_CDS.append(n)\n",
    "                    for a in indices_CDS:\n",
    "                        if len(indices_CDS) != 0:\n",
    "                            print(record.features[a].qualifiers['product'], \"\\n\")\n",
    "                            print(record.features[a].qualifiers['translation'])"
   ]
  },
  {
   "cell_type": "code",
   "execution_count": null,
   "metadata": {},
   "outputs": [],
   "source": [
    "Entrez.email = 'analisboasan@gmail.com'\n",
    "search_handler = Entrez.esearch(db = \"nucleotide\", term = \"Homo sapiens[Orgn] AND NOTCH2[Gene]\") \n",
    "\n",
    "search_records = Entrez.read(search_handler)\n",
    "indices_CDS = []\n",
    "\n",
    "for record_id in search_records['IdList']:\n",
    "    fetch_handler = Entrez.efetch(db=\"nucleotide\", id=record_id, rettype=\"gb\", retmode=\"text\")\n",
    "    fetch_records = SeqIO.parse(fetch_handler, 'genbank')\n",
    "    record = SeqIO.read(fetch_handler, 'gb')\n",
    "    SeqIO.write(record, \"NOTCH2_file\", 'gb')"
   ]
  },
  {
   "cell_type": "code",
   "execution_count": null,
   "metadata": {},
   "outputs": [],
   "source": [
    "for record_id in search_records['IdList']:\n",
    "    fetch_handler = Entrez.efetch(db=\"nucleotide\", id=record_id, rettype=\"gb\", retmode=\"text\")\n",
    "    fetch_records = SeqIO.parse(fetch_handler, 'genbank')\n",
    "    \n",
    "    for record in fetch_records:\n",
    "        if record.id == \"NM_024408.4\":\n",
    "            print('Record accession: ', record.id, \"\\n\")\n",
    "            print('Record sequence length: ', len(record.seq), \"\\n\")\n",
    "            print('Record description: ', record.description, \"\\n\")\n",
    "            print('Record annotations: ', record.annotations, \"\\n\")\n",
    "            print('Record external references: ', record.dbxrefs, \"\\n\")\n",
    "            print('Record features count: ', len(record.features), \"\\n\")\n",
    "            print('Record features: ', record.features, \"\\n\")\n",
    "        \n",
    "            indices_CDS = []\n",
    "            for n, feature in enumerate(record.features):\n",
    "                if feature.type == \"CDS\":\n",
    "                    indices_CDS.append(n)\n",
    "                    for a in indices_CDS:\n",
    "                        if len(indices_CDS) != 0:\n",
    "                            print(record.features[a].qualifiers['product'], \"\\n\")\n",
    "                            print(record.features[a].qualifiers['translation'])"
   ]
  },
  {
   "cell_type": "code",
   "execution_count": 6,
   "metadata": {},
   "outputs": [],
   "source": [
    "from Bio import SeqIO\n",
    "from Bio import Entrez\n",
    "\n",
    "Entrez.email = 'bruna_dfa@hotmail.com'\n",
    "search_handler = Entrez.esearch(db = \"nucleotide\", term = \"Homo sapiens[Orgn] AND DSTYK[Gene]\") \n",
    "\n",
    "search_records = Entrez.read(search_handler)\n",
    "indices_CDS = []\n",
    "\n",
    "for record_id in search_records['IdList']:\n",
    "    fetch_handler = Entrez.efetch(db=\"nucleotide\", id=record_id, rettype=\"gb\", retmode=\"text\")\n",
    "    fetch_records = SeqIO.parse(fetch_handler, 'genbank')\n",
    "    record = SeqIO.read(fetch_handler, 'gb')\n",
    "    SeqIO.write(record, \"DSTYK_file\", 'gb')"
   ]
  },
  {
   "cell_type": "code",
   "execution_count": 7,
   "metadata": {},
   "outputs": [
    {
     "name": "stdout",
     "output_type": "stream",
     "text": [
      "Record accession:  BC048204.1 \n",
      "\n",
      "Record sequence length:  1362 \n",
      "\n",
      "Record description:  Homo sapiens dual serine/threonine and tyrosine protein kinase, mRNA (cDNA clone IMAGE:4137417), partial cds \n",
      "\n",
      "Record annotations:  {'molecule_type': 'mRNA', 'topology': 'linear', 'data_file_division': 'PRI', 'date': '18-MAR-2009', 'accessions': ['BC048204'], 'sequence_version': 1, 'keywords': [''], 'source': 'Homo sapiens (human)', 'organism': 'Homo sapiens', 'taxonomy': ['Eukaryota', 'Metazoa', 'Chordata', 'Craniata', 'Vertebrata', 'Euteleostomi', 'Mammalia', 'Eutheria', 'Euarchontoglires', 'Primates', 'Haplorrhini', 'Catarrhini', 'Hominidae', 'Homo'], 'references': [Reference(title='Generation and initial analysis of more than 15,000 full-length human and mouse cDNA sequences', ...), Reference(title='Direct Submission', ...)], 'comment': 'Contact: MGC help desk\\nEmail: cgapbs-r@mail.nih.gov\\nTissue Procurement: ATCC\\ncDNA Library Preparation: Rubin Laboratory\\ncDNA Library Arrayed by: The I.M.A.G.E. Consortium (LLNL)\\nDNA Sequencing by: National Institutes of Health Intramural\\nSequencing Center (NISC),\\nGaithersburg, Maryland;\\nWeb site: http://www.nisc.nih.gov/\\nContact: nisc_mgc@nhgri.nih.gov\\nAkhter,N., Ayele,K., Beckstrom-Sternberg,S.M., Benjamin,B.,\\nBlakesley,R.W., Bouffard,G.G., Breen,K., Brinkley,C., Brooks,S.,\\nDietrich,N.L., Granite,S., Guan,X., Gupta,J., Haghighi,P.,\\nHansen,N., Ho,S.-L., Karlins,E., Kwong,P., Laric,P., Legaspi,R.,\\nMaduro,Q.L., Masiello,C., Maskeri,B., Mastrian,S.D.,McCloskey,J.C.,\\nMcDowell,J., Pearson,R., Stantripop,S., Thomas,P.J., Touchman,J.W.,\\nTsurgeon,C., Vogt,J.L., Walker,M.A., Wetherby,K.D., Wiggins,L.,\\nYoung,A., Zhang,L.-H. and Green,E.D.\\nClone distribution: MGC clone distribution information can be found\\nthrough the I.M.A.G.E. Consortium/LLNL at: http://image.llnl.gov\\nSeries: IRAL Plate: 44 Row: d Column: 22.'} \n",
      "\n",
      "Record external references:  [] \n",
      "\n",
      "Record features count:  3 \n",
      "\n",
      "Record features:  [SeqFeature(FeatureLocation(ExactPosition(0), ExactPosition(1362), strand=1), type='source'), SeqFeature(FeatureLocation(BeforePosition(0), ExactPosition(1362), strand=1), type='gene'), SeqFeature(FeatureLocation(BeforePosition(0), ExactPosition(673), strand=1), type='CDS')] \n",
      "\n",
      "['DSTYK protein'] \n",
      "\n",
      "['QYGVVYLCDNWGGHFPCALKSVVPPDEKHWNDLALEFHYMRSLPKHERLVDLHGSVIDYNYGGGSSIAVLLIMERLHRDLYTGLKAGLTLETRLQIALDVVEGIRFLHSQGLVHRDIKLKNVLLDKQNRAKITDLGFCKPEAMMSGSIVGTPIHMAPELFTGARPERLPVFDEECWQLMEACWDGDPLKRPLLGIVQPMLQGIMNRLCKSNSEQPNRGLDDST']\n"
     ]
    }
   ],
   "source": [
    "for record_id in search_records['IdList']:\n",
    "    fetch_handler = Entrez.efetch(db=\"nucleotide\", id=record_id, rettype=\"gb\", retmode=\"text\")\n",
    "    fetch_records = SeqIO.parse(fetch_handler, 'genbank')\n",
    "\n",
    "    for record in fetch_records:\n",
    "        if record.id == \"BC048204.1\":\n",
    "            print('Record accession: ', record.id, \"\\n\")\n",
    "            print('Record sequence length: ', len(record.seq), \"\\n\")\n",
    "            print('Record description: ', record.description, \"\\n\")\n",
    "            print('Record annotations: ', record.annotations, \"\\n\")\n",
    "            print('Record external references: ', record.dbxrefs, \"\\n\")\n",
    "            print('Record features count: ', len(record.features), \"\\n\")\n",
    "            print('Record features: ', record.features, \"\\n\")\n",
    "        \n",
    "            indices_CDS = []\n",
    "            for n, feature in enumerate(record.features):\n",
    "                if feature.type == \"CDS\":\n",
    "                    indices_CDS.append(n)\n",
    "                    for a in indices_CDS:\n",
    "                        if len(indices_CDS) != 0:\n",
    "                            print(record.features[a].qualifiers['product'], \"\\n\")\n",
    "                            print(record.features[a].qualifiers['translation'])"
   ]
  },
  {
   "cell_type": "markdown",
   "metadata": {},
   "source": [
    "## Análise de homologias por BLAST ou Diamond"
   ]
  },
  {
   "cell_type": "markdown",
   "metadata": {},
   "source": [
    "### NEUROG3"
   ]
  },
  {
   "cell_type": "code",
   "execution_count": null,
   "metadata": {},
   "outputs": [],
   "source": [
    "SeqIO.convert(\"NEUROG3_file\", \"genbank\", \"Sequence_NEUROG3.fna\", \"fasta\")"
   ]
  },
  {
   "cell_type": "code",
   "execution_count": null,
   "metadata": {},
   "outputs": [],
   "source": [
    "from Bio.Blast import NCBIXML \n",
    "from Bio.Blast import NCBIWWW \n",
    "from Bio import SeqIO\n",
    "\n",
    "record1 = SeqIO.read(open(\"Sequence_NEUROG3.fna\"), format=\"fasta\")"
   ]
  },
  {
   "cell_type": "code",
   "execution_count": null,
   "metadata": {},
   "outputs": [],
   "source": [
    "result_handle1 = NCBIWWW.qblast(\"blastn\", \"nt\", record1.format(\"fasta\"))"
   ]
  },
  {
   "cell_type": "code",
   "execution_count": null,
   "metadata": {},
   "outputs": [],
   "source": [
    "save_file1 = open(\"Blast_NEUROG3.xml\", \"w\")\n",
    "save_file1.write(result_handle1.read()) \n",
    "save_file1.close()\n",
    "result_handle1.close()"
   ]
  },
  {
   "cell_type": "code",
   "execution_count": null,
   "metadata": {},
   "outputs": [],
   "source": [
    "result_handle1 = open(\"Blast_NEUROG3.xml\")\n",
    "resultado1 = NCBIXML.read(result_handle1)"
   ]
  },
  {
   "cell_type": "code",
   "execution_count": null,
   "metadata": {},
   "outputs": [],
   "source": [
    "print(resultado1.alignments[0])"
   ]
  },
  {
   "cell_type": "code",
   "execution_count": null,
   "metadata": {},
   "outputs": [],
   "source": [
    "for a in resultado1.alignments[0:5]:\n",
    "    print(a.accession)\n",
    "    print(a.hit_def)\n",
    "    for b in a.hsps:\n",
    "        print(b.expect)"
   ]
  },
  {
   "cell_type": "markdown",
   "metadata": {},
   "source": [
    "### NOTCH2"
   ]
  },
  {
   "cell_type": "code",
   "execution_count": null,
   "metadata": {},
   "outputs": [],
   "source": [
    "SeqIO.convert(\"NOTCH2_file\", \"genbank\", \"Sequence_NOTCH2.fna\", \"fasta\")"
   ]
  },
  {
   "cell_type": "code",
   "execution_count": null,
   "metadata": {},
   "outputs": [],
   "source": [
    "from Bio.Blast import NCBIXML \n",
    "from Bio.Blast import NCBIWWW \n",
    "from Bio import SeqIO\n",
    "\n",
    "record2 = SeqIO.read(open(\"Sequence_NOTCH2.fna\"), format=\"fasta\")"
   ]
  },
  {
   "cell_type": "code",
   "execution_count": null,
   "metadata": {},
   "outputs": [],
   "source": [
    "result_handle2 = NCBIWWW.qblast(\"blastn\", \"nt\", record2.format(\"fasta\"))"
   ]
  },
  {
   "cell_type": "code",
   "execution_count": null,
   "metadata": {},
   "outputs": [],
   "source": [
    "save_file2 = open(\"Blast_NOTCH2.xml\", \"w\")\n",
    "save_file2.write(result_handle2.read()) \n",
    "save_file2.close()\n",
    "result_handle2.close()"
   ]
  },
  {
   "cell_type": "code",
   "execution_count": null,
   "metadata": {},
   "outputs": [],
   "source": [
    "result_handle2 = open(\"Blast_NOTCH2.xml\")\n",
    "resultado2 = NCBIXML.read(result_handle2)"
   ]
  },
  {
   "cell_type": "code",
   "execution_count": null,
   "metadata": {},
   "outputs": [],
   "source": [
    "print(resultado2.alignments[0])"
   ]
  },
  {
   "cell_type": "code",
   "execution_count": null,
   "metadata": {},
   "outputs": [],
   "source": [
    "for a in resultado2.alignments[0:10]:\n",
    "    print(a.accession)\n",
    "    print(a.hit_def)\n",
    "    for b in a.hsps:\n",
    "        print(b.expect)"
   ]
  },
  {
   "cell_type": "markdown",
   "metadata": {},
   "source": [
    "### DSTYK"
   ]
  },
  {
   "cell_type": "code",
   "execution_count": null,
   "metadata": {},
   "outputs": [],
   "source": [
    "SeqIO.convert(\"DSTYK_file\", \"genbank\", \"Sequence_DSTYK.fna\", \"fasta\")"
   ]
  },
  {
   "cell_type": "code",
   "execution_count": null,
   "metadata": {},
   "outputs": [],
   "source": [
    "from Bio.Blast import NCBIXML \n",
    "from Bio.Blast import NCBIWWW \n",
    "from Bio import SeqIO\n",
    "\n",
    "record3 = SeqIO.read(open(\"Sequence_DSTYK.fna\"), format=\"fasta\")"
   ]
  },
  {
   "cell_type": "code",
   "execution_count": null,
   "metadata": {},
   "outputs": [],
   "source": [
    "result_handle3 = NCBIWWW.qblast(\"blastn\", \"nt\", record3.format(\"fasta\"))"
   ]
  },
  {
   "cell_type": "code",
   "execution_count": null,
   "metadata": {},
   "outputs": [],
   "source": [
    "save_file3 = open(\"Blast_DSTYK.xml\", \"w\")\n",
    "save_file3.write(result_handle3.read()) \n",
    "save_file3.close()\n",
    "result_handle3.close()"
   ]
  },
  {
   "cell_type": "code",
   "execution_count": null,
   "metadata": {},
   "outputs": [],
   "source": [
    "result_handle3 = open(\"Blast_DSTYK.xml\")\n",
    "resultado3 = NCBIXML.read(result_handle3)"
   ]
  },
  {
   "cell_type": "code",
   "execution_count": null,
   "metadata": {},
   "outputs": [],
   "source": [
    "print(resultado3.alignments[0])"
   ]
  },
  {
   "cell_type": "code",
   "execution_count": null,
   "metadata": {},
   "outputs": [],
   "source": [
    "for a in resultado3.alignments[0:5]:\n",
    "    print(a.accession)\n",
    "    print(a.hit_def)\n",
    "    for b in a.hsps:\n",
    "        print(b.expect)"
   ]
  },
  {
   "cell_type": "markdown",
   "metadata": {},
   "source": [
    "## Ferramentas de análise das propriedades da proteína"
   ]
  },
  {
   "cell_type": "markdown",
   "metadata": {},
   "source": [
    "### PROTEIN NEUROG3"
   ]
  },
  {
   "cell_type": "code",
   "execution_count": null,
   "metadata": {},
   "outputs": [],
   "source": [
    "from Bio import SeqIO\n",
    "from Bio import Entrez\n",
    "\n",
    "Entrez.email = 'lucianacmartins8@gmail.com'\n",
    "handle = Entrez.esearch(db=\"protein\", term=\"Homo sapiens[Orgn] AND NEUROG3[Gene]\")\n",
    "\n",
    "search_records = Entrez.read(handle)\n",
    "for record_id in search_records['IdList']:\n",
    "    handle2 = Entrez.efetch(db=\"protein\", id=record_id, rettype=\"gb\", retmode=\"text\")\n",
    "    fetch_records = SeqIO.parse(handle2, 'genbank')\n",
    "    record = SeqIO.read(handle2, 'gb')\n",
    "    SeqIO.write(record, \"NEUROG3_proteinfile\", 'gb')"
   ]
  },
  {
   "cell_type": "code",
   "execution_count": null,
   "metadata": {},
   "outputs": [],
   "source": [
    "for record_id in search_records['IdList']:\n",
    "    handle2 = Entrez.efetch(db=\"protein\", id=record_id, rettype=\"gb\", retmode=\"text\")\n",
    "    fetch_records = SeqIO.parse(handle2, 'genbank')\n",
    "    for record in fetch_records:\n",
    "        if record.id == \"NP_066279.2\":\n",
    "            print('Record accession: ', record.id, \"\\n\")\n",
    "            print('Record sequence length: ', len(record.seq), \"\\n\")\n",
    "            print('Record sequence: ', record.seq, \"\\n\")\n",
    "            print('Record description: ', record.description, \"\\n\")\n",
    "            print('Record taxonomy: ', record.annotations[\"taxonomy\"], \"\\n\")\n",
    "            print('Record organism: ', record.annotations[\"organism\"], \"\\n\")\n",
    "            print('Record number of features: ', len(record.features), \"\\n\")\n",
    "            print('Record features: ', record.features)"
   ]
  },
  {
   "cell_type": "markdown",
   "metadata": {},
   "source": [
    "### PROTEIN NOTCH2"
   ]
  },
  {
   "cell_type": "code",
   "execution_count": null,
   "metadata": {},
   "outputs": [],
   "source": [
    "from Bio import SeqIO\n",
    "from Bio import Entrez\n",
    "\n",
    "Entrez.email = 'analisboasan@gmail.com'\n",
    "handle = Entrez.esearch(db = \"protein\", term = \"Homo sapiens[Orgn] AND NOTCH2[Gene]\") \n",
    "\n",
    "search_records = Entrez.read(handle)\n",
    "for record_id in search_records['IdList']:\n",
    "    handle2 = Entrez.efetch(db=\"protein\", id=record_id, rettype=\"gb\", retmode=\"text\")\n",
    "    fetch_records = SeqIO.parse(handle2, 'genbank')\n",
    "    record = SeqIO.read(handle2, 'gb')\n",
    "    SeqIO.write(record, \"NOTCH2_proteinfile\", 'gb')"
   ]
  },
  {
   "cell_type": "code",
   "execution_count": null,
   "metadata": {},
   "outputs": [],
   "source": [
    "for record_id in search_records['IdList']:\n",
    "    handle2 = Entrez.efetch(db=\"protein\", id=record_id, rettype=\"gb\", retmode=\"text\")\n",
    "    fetch_records = SeqIO.parse(handle2, 'genbank')\n",
    "    for record in fetch_records:\n",
    "        if record.id == \"Q04721.3\":\n",
    "            print('Record accession: ', record.id, \"\\n\")\n",
    "            print('Record sequence length: ', len(record.seq), \"\\n\")\n",
    "            print('Record sequence: ', record.seq, \"\\n\")\n",
    "            print('Record description: ', record.description, \"\\n\")\n",
    "            print('Record taxonomy: ', record.annotations[\"taxonomy\"], \"\\n\")\n",
    "            print('Record organism: ', record.annotations[\"organism\"], \"\\n\")\n",
    "            print('Record number of features: ', len(record.features), \"\\n\")\n",
    "            print('Record features: ', record.features)"
   ]
  },
  {
   "cell_type": "markdown",
   "metadata": {},
   "source": [
    "### PROTEIN DSTYK"
   ]
  },
  {
   "cell_type": "code",
   "execution_count": null,
   "metadata": {},
   "outputs": [],
   "source": [
    "from Bio import SeqIO\n",
    "from Bio import Entrez\n",
    "\n",
    "Entrez.email = 'bruna_dfa@hotmail.com'\n",
    "handle = Entrez.esearch(db = \"protein\", term = \"Homo sapiens[Orgn] AND DSTYK[Gene]\")\n",
    "\n",
    "search_records = Entrez.read(handle)\n",
    "for record_id in search_records['IdList']:\n",
    "    handle2 = Entrez.efetch(db=\"protein\", id=record_id, rettype=\"gb\", retmode=\"text\")\n",
    "    fetch_records = SeqIO.parse(handle2, 'genbank')\n",
    "    record = SeqIO.read(handle2, 'gb')\n",
    "    SeqIO.write(record, \"DSTYK_proteinfile\", 'gb')"
   ]
  },
  {
   "cell_type": "code",
   "execution_count": null,
   "metadata": {},
   "outputs": [],
   "source": [
    "for record_id in search_records['IdList']:\n",
    "    handle2 = Entrez.efetch(db=\"protein\", id=record_id, rettype=\"gb\", retmode=\"text\")\n",
    "    fetch_records = SeqIO.parse(handle2, 'genbank')\n",
    "    for record in fetch_records:\n",
    "        if record.id == \"AAH48204.1\":\n",
    "            print('Record accession: ', record.id, \"\\n\")\n",
    "            print('Record sequence length: ', len(record.seq), \"\\n\")\n",
    "            print('Record sequence: ', record.seq, \"\\n\")\n",
    "            print('Record description: ', record.description, \"\\n\")\n",
    "            print('Record taxonomy: ', record.annotations[\"taxonomy\"], \"\\n\")\n",
    "            print('Record organism: ', record.annotations[\"organism\"], \"\\n\")\n",
    "            print('Record number of features: ', len(record.features), \"\\n\")\n",
    "            print('Record features: ', record.features)"
   ]
  },
  {
   "cell_type": "markdown",
   "metadata": {},
   "source": [
    "# BLAST PROTEIN"
   ]
  },
  {
   "cell_type": "markdown",
   "metadata": {},
   "source": [
    "### NEUROG3"
   ]
  },
  {
   "cell_type": "code",
   "execution_count": null,
   "metadata": {},
   "outputs": [],
   "source": [
    "SeqIO.convert(\"NEUROG3_proteinfile\", \"genbank\", \"ProteinSequence_NEUROG3.fna\", \"fasta\")"
   ]
  },
  {
   "cell_type": "code",
   "execution_count": null,
   "metadata": {},
   "outputs": [],
   "source": [
    "from Bio.Blast import NCBIXML \n",
    "from Bio.Blast import NCBIWWW \n",
    "from Bio import SeqIO\n",
    "\n",
    "record1 = SeqIO.read(open(\"ProteinSequence_NEUROG3.fna\"), format=\"fasta\")"
   ]
  },
  {
   "cell_type": "code",
   "execution_count": null,
   "metadata": {},
   "outputs": [],
   "source": [
    "result_handle1 = NCBIWWW.qblast(\"blastp\", \"nr\", record1.format(\"fasta\"))"
   ]
  },
  {
   "cell_type": "code",
   "execution_count": null,
   "metadata": {},
   "outputs": [],
   "source": [
    "save_file1 = open(\"ProteinBlast_NEUROG3.xml\", \"w\")\n",
    "save_file1.write(result_handle1.read()) \n",
    "save_file1.close()\n",
    "result_handle1.close()"
   ]
  },
  {
   "cell_type": "code",
   "execution_count": null,
   "metadata": {},
   "outputs": [],
   "source": [
    "result_handle1 = open(\"ProteinBlast_NEUROG3.xml\")\n",
    "resultado1 = NCBIXML.read(result_handle1)"
   ]
  },
  {
   "cell_type": "code",
   "execution_count": null,
   "metadata": {},
   "outputs": [],
   "source": [
    "print(resultado1.alignments[0])"
   ]
  },
  {
   "cell_type": "code",
   "execution_count": null,
   "metadata": {},
   "outputs": [],
   "source": [
    "for a in resultado1.alignments[0:5]:\n",
    "    print(a.accession)\n",
    "    print(a.hit_def)\n",
    "    for b in a.hsps:\n",
    "        print(b.expect)"
   ]
  },
  {
   "cell_type": "markdown",
   "metadata": {},
   "source": [
    "## NOTCH2 - MUDAR"
   ]
  },
  {
   "cell_type": "code",
   "execution_count": 105,
   "metadata": {},
   "outputs": [
    {
     "data": {
      "text/plain": [
       "1"
      ]
     },
     "execution_count": 105,
     "metadata": {},
     "output_type": "execute_result"
    }
   ],
   "source": [
    "SeqIO.convert(\"NOTCH2_proteinfile\", \"genbank\", \"ProteinSequence_NOTCH2.fna\", \"fasta\")"
   ]
  },
  {
   "cell_type": "code",
   "execution_count": null,
   "metadata": {},
   "outputs": [],
   "source": [
    "from Bio.Blast import NCBIXML \n",
    "from Bio.Blast import NCBIWWW \n",
    "from Bio import SeqIO\n",
    "\n",
    "record2 = SeqIO.read(open(\"ProteinSequence_NOTCH2.fna\"), format=\"fasta\")"
   ]
  },
  {
   "cell_type": "code",
   "execution_count": null,
   "metadata": {},
   "outputs": [],
   "source": [
    "result_handle2 = NCBIWWW.qblast(\"blastp\", \"nr\", record2.format(\"fasta\"), hitlist_size = \"10\")"
   ]
  },
  {
   "cell_type": "code",
   "execution_count": 98,
   "metadata": {},
   "outputs": [],
   "source": [
    "save_file2 = open(\"ProteinBlast_NOTCH2.xml\", \"w\")\n",
    "save_file2.write(result_handle2.read())\n",
    "save_file2.close()\n",
    "result_handle2.close()"
   ]
  },
  {
   "cell_type": "code",
   "execution_count": 87,
   "metadata": {},
   "outputs": [],
   "source": [
    "result_handle2 = open(\"ProteinBlast_NOTCH2.xml\")\n",
    "resultado2 = NCBIXML.read(result_handle2)"
   ]
  },
  {
   "cell_type": "code",
   "execution_count": 93,
   "metadata": {},
   "outputs": [
    {
     "name": "stdout",
     "output_type": "stream",
     "text": [
      "[]\n"
     ]
    }
   ],
   "source": [
    "print(resultado2.alignments)"
   ]
  },
  {
   "cell_type": "code",
   "execution_count": 89,
   "metadata": {},
   "outputs": [],
   "source": [
    "for a in resultado2.alignments[0:5]:\n",
    "    print(a.accession)\n",
    "    print(a.hit_def)\n",
    "    for b in a.hsps:\n",
    "        print(b.expect)"
   ]
  },
  {
   "cell_type": "markdown",
   "metadata": {},
   "source": [
    "## DSTYK"
   ]
  },
  {
   "cell_type": "code",
   "execution_count": 97,
   "metadata": {},
   "outputs": [
    {
     "data": {
      "text/plain": [
       "1"
      ]
     },
     "execution_count": 97,
     "metadata": {},
     "output_type": "execute_result"
    }
   ],
   "source": [
    "SeqIO.convert(\"DSTYK_proteinfile\", \"genbank\", \"ProteinSequence_DSTYK.fna\", \"fasta\")"
   ]
  },
  {
   "cell_type": "code",
   "execution_count": 99,
   "metadata": {},
   "outputs": [],
   "source": [
    "from Bio.Blast import NCBIXML \n",
    "from Bio.Blast import NCBIWWW \n",
    "from Bio import SeqIO\n",
    "\n",
    "record3 = SeqIO.read(open(\"ProteinSequence_DSTYK.fna\"), format=\"fasta\")"
   ]
  },
  {
   "cell_type": "code",
   "execution_count": 100,
   "metadata": {},
   "outputs": [],
   "source": [
    "result_handle3 = NCBIWWW.qblast(\"blastp\", \"nr\", record3.format(\"fasta\"))"
   ]
  },
  {
   "cell_type": "code",
   "execution_count": 101,
   "metadata": {},
   "outputs": [],
   "source": [
    "save_file3 = open(\"ProteinBlast_DSTYK.xml\", \"w\")\n",
    "save_file3.write(result_handle3.read()) \n",
    "save_file3.close()\n",
    "result_handle3.close()"
   ]
  },
  {
   "cell_type": "code",
   "execution_count": 102,
   "metadata": {},
   "outputs": [],
   "source": [
    "result_handle3 = open(\"ProteinBlast_DSTYK.xml\")\n",
    "resultado3 = NCBIXML.read(result_handle3)"
   ]
  },
  {
   "cell_type": "code",
   "execution_count": 103,
   "metadata": {},
   "outputs": [
    {
     "name": "stdout",
     "output_type": "stream",
     "text": [
      "gb|AAH48204.1| DSTYK protein, partial [Homo sapiens]\n",
      "           Length = 223\n",
      "\n"
     ]
    }
   ],
   "source": [
    "print(resultado3.alignments[0])"
   ]
  },
  {
   "cell_type": "code",
   "execution_count": 104,
   "metadata": {},
   "outputs": [
    {
     "name": "stdout",
     "output_type": "stream",
     "text": [
      "AAH48204\n",
      "DSTYK protein, partial [Homo sapiens]\n",
      "1.17158e-164\n",
      "XP_047273107\n",
      "dual serine/threonine and tyrosine protein kinase isoform X5 [Homo sapiens]\n",
      "3.03464e-162\n",
      "XP_047273108\n",
      "dual serine/threonine and tyrosine protein kinase isoform X6 [Homo sapiens]\n",
      "4.82162e-162\n",
      "XP_047273101\n",
      "dual serine/threonine and tyrosine protein kinase isoform X2 [Homo sapiens]\n",
      "8.26022e-159\n",
      "AAH53627\n",
      "Dual serine/threonine and tyrosine protein kinase [Homo sapiens] >gb|ACE87798.1| receptor interacting protein kinase 5 protein [synthetic construct] >gb|ACT64414.1| receptor interacting protein kinase 5 protein, partial [synthetic construct] >gb|AIC62721.1| DSTYK, partial [synthetic construct] >gb|AIC63348.1| DSTYK, partial [synthetic construct]\n",
      "1.21322e-158\n"
     ]
    }
   ],
   "source": [
    "for a in resultado3.alignments[0:5]:\n",
    "    print(a.accession)\n",
    "    print(a.hit_def)\n",
    "    for b in a.hsps:\n",
    "        print(b.expect)"
   ]
  },
  {
   "cell_type": "markdown",
   "metadata": {},
   "source": [
    "## Alinhamento Múltiplo e Filogenia"
   ]
  },
  {
   "cell_type": "markdown",
   "metadata": {},
   "source": [
    "### NOTCH2"
   ]
  },
  {
   "cell_type": "code",
   "execution_count": null,
   "metadata": {},
   "outputs": [],
   "source": [
    "from Bio.Blast import NCBIXML \n",
    "from Bio.Blast import NCBIWWW \n",
    "from Bio import SeqIO"
   ]
  },
  {
   "cell_type": "code",
   "execution_count": null,
   "metadata": {},
   "outputs": [],
   "source": [
    "record1 = SeqIO.parse(open(\"blast_seqs_NOTCH2 (1).txt\"), format=\"fasta\")\n",
    "record1"
   ]
  },
  {
   "cell_type": "code",
   "execution_count": null,
   "metadata": {},
   "outputs": [],
   "source": [
    "from Bio.SeqRecord import SeqRecord\n",
    "from Bio.Align import MultipleSeqAlignment\n",
    "from Bio.Seq import Seq\n",
    "from Bio import AlignIO"
   ]
  },
  {
   "cell_type": "code",
   "execution_count": null,
   "metadata": {},
   "outputs": [],
   "source": [
    "seqs = []\n",
    "for seq in record1:\n",
    "    seqs.append(seq)\n",
    "\n",
    "alin1 = MultipleSeqAlignment(seqs)\n",
    "print(alin1)\n",
    "print(alin1.get_alignment_length())"
   ]
  },
  {
   "cell_type": "code",
   "execution_count": null,
   "metadata": {},
   "outputs": [],
   "source": [
    "ficheirofasta1 = AlignIO.write(alin1, \"resultados_alin_NOTCH2\", \"fasta\")"
   ]
  },
  {
   "cell_type": "code",
   "execution_count": null,
   "metadata": {},
   "outputs": [],
   "source": [
    "record_seq = AlignIO.parse(\"resultados_alin_NOTCH2\", \"fasta\")\n",
    "\n",
    "converter_stock = AlignIO.parse(\"resultados_alin_NOTCH2\", \"fasta\")\n",
    "ficheirostock = AlignIO.write([c for c in converter_stock], \"resultados_align_NOTCH2_stock.sth\", \"stockholm\")"
   ]
  },
  {
   "cell_type": "code",
   "execution_count": null,
   "metadata": {},
   "outputs": [],
   "source": [
    "alignment1 = AlignIO.read(\"resultados_align_NOTCH2_stock.sth\", \"stockholm\")\n",
    "print(alignment1)"
   ]
  },
  {
   "cell_type": "code",
   "execution_count": null,
   "metadata": {},
   "outputs": [],
   "source": [
    "from Bio.Phylo.TreeConstruction import DistanceCalculator"
   ]
  },
  {
   "cell_type": "code",
   "execution_count": null,
   "metadata": {},
   "outputs": [],
   "source": [
    "calculator = DistanceCalculator('blosum62')\n",
    "dm1 = calculator.get_distance(alignment1)\n",
    "print(dm1)"
   ]
  },
  {
   "cell_type": "code",
   "execution_count": null,
   "metadata": {},
   "outputs": [],
   "source": [
    "from Bio.Phylo.TreeConstruction import DistanceTreeConstructor"
   ]
  },
  {
   "cell_type": "code",
   "execution_count": null,
   "metadata": {},
   "outputs": [],
   "source": [
    "constructor = DistanceTreeConstructor()\n",
    "upgmatree_NOTCH2 = constructor.upgma(dm1)"
   ]
  },
  {
   "cell_type": "code",
   "execution_count": null,
   "metadata": {},
   "outputs": [],
   "source": [
    "print(upgmatree_NOTCH2)"
   ]
  },
  {
   "cell_type": "code",
   "execution_count": null,
   "metadata": {},
   "outputs": [],
   "source": [
    "from Bio import Phylo\n",
    "Phylo.draw_ascii(upgmatree_NOTCH2)"
   ]
  },
  {
   "cell_type": "code",
   "execution_count": null,
   "metadata": {},
   "outputs": [],
   "source": [
    "njtree_NOTCH2 = constructor.nj(dm1)\n",
    "print(njtree_NOTCH2)"
   ]
  },
  {
   "cell_type": "code",
   "execution_count": null,
   "metadata": {},
   "outputs": [],
   "source": [
    "Phylo.draw_ascii(njtree_NOTCH2)"
   ]
  },
  {
   "cell_type": "markdown",
   "metadata": {},
   "source": [
    "### DSTYK"
   ]
  },
  {
   "cell_type": "code",
   "execution_count": null,
   "metadata": {},
   "outputs": [],
   "source": [
    "from Bio.Blast import NCBIXML \n",
    "from Bio.Blast import NCBIWWW \n",
    "from Bio import SeqIO"
   ]
  },
  {
   "cell_type": "code",
   "execution_count": null,
   "metadata": {},
   "outputs": [],
   "source": [
    "record2 = SeqIO.parse(open(\"blast_seqs_DSTYK.txt\"), format=\"fasta\")\n",
    "record2"
   ]
  },
  {
   "cell_type": "code",
   "execution_count": null,
   "metadata": {},
   "outputs": [],
   "source": [
    "from Bio.SeqRecord import SeqRecord\n",
    "from Bio.Align import MultipleSeqAlignment\n",
    "from Bio.Seq import Seq\n",
    "from Bio import AlignIO"
   ]
  },
  {
   "cell_type": "code",
   "execution_count": null,
   "metadata": {},
   "outputs": [],
   "source": [
    "seqs = []\n",
    "for seq in record2:\n",
    "    seqs.append(seq)\n",
    "\n",
    "alin2 = MultipleSeqAlignment(seqs)\n",
    "print(alin2)\n",
    "print(alin2.get_alignment_length())"
   ]
  },
  {
   "cell_type": "code",
   "execution_count": null,
   "metadata": {},
   "outputs": [],
   "source": [
    "ficheirofasta2 = AlignIO.write(alin2, \"resultados_alin_DSTYK\", \"fasta\")"
   ]
  },
  {
   "cell_type": "code",
   "execution_count": null,
   "metadata": {},
   "outputs": [],
   "source": [
    "record_seq = AlignIO.parse(\"resultados_alin_DSTYK\", \"fasta\")\n",
    "\n",
    "converter_stock = AlignIO.parse(\"resultados_alin_DSTYK\", \"fasta\")\n",
    "ficheirostock = AlignIO.write([c for c in converter_stock], \"resultados_align_DSTYK_stock.sth\", \"stockholm\")"
   ]
  },
  {
   "cell_type": "code",
   "execution_count": null,
   "metadata": {},
   "outputs": [],
   "source": [
    "alignment2 = AlignIO.read(\"resultados_align_DSTYK_stock.sth\", \"stockholm\")\n",
    "print(alignment2)"
   ]
  },
  {
   "cell_type": "code",
   "execution_count": null,
   "metadata": {},
   "outputs": [],
   "source": [
    "from Bio.Phylo.TreeConstruction import DistanceCalculator"
   ]
  },
  {
   "cell_type": "code",
   "execution_count": null,
   "metadata": {},
   "outputs": [],
   "source": [
    "calculator = DistanceCalculator('blosum62')\n",
    "dm2 = calculator.get_distance(alignment2)\n",
    "print(dm2)"
   ]
  },
  {
   "cell_type": "code",
   "execution_count": null,
   "metadata": {},
   "outputs": [],
   "source": [
    "from Bio.Phylo.TreeConstruction import DistanceTreeConstructor"
   ]
  },
  {
   "cell_type": "code",
   "execution_count": null,
   "metadata": {},
   "outputs": [],
   "source": [
    "constructor = DistanceTreeConstructor()\n",
    "upgmatree_DSTYK = constructor.upgma(dm2)"
   ]
  },
  {
   "cell_type": "code",
   "execution_count": null,
   "metadata": {},
   "outputs": [],
   "source": [
    "print(upgmatree_DSTYK)"
   ]
  },
  {
   "cell_type": "code",
   "execution_count": null,
   "metadata": {},
   "outputs": [],
   "source": [
    "from Bio import Phylo\n",
    "Phylo.draw_ascii(upgmatree_DSTYK)"
   ]
  },
  {
   "cell_type": "code",
   "execution_count": null,
   "metadata": {},
   "outputs": [],
   "source": [
    "njtree_DSTYK = constructor.nj(dm2)\n",
    "print(njtree_DSTYK)"
   ]
  },
  {
   "cell_type": "code",
   "execution_count": null,
   "metadata": {},
   "outputs": [],
   "source": [
    "Phylo.draw_ascii(njtree_DSTYK)"
   ]
  },
  {
   "cell_type": "markdown",
   "metadata": {},
   "source": [
    "### NEUROG3"
   ]
  },
  {
   "cell_type": "code",
   "execution_count": null,
   "metadata": {},
   "outputs": [],
   "source": [
    "from Bio.Blast import NCBIXML\n",
    "from Bio.Blast import NCBIWWW \n",
    "from Bio import SeqIO"
   ]
  },
  {
   "cell_type": "code",
   "execution_count": null,
   "metadata": {},
   "outputs": [],
   "source": [
    "record3 = SeqIO.parse(open(\"blast_seqs_NEUROG3.txt\"), format=\"fasta\")\n",
    "record3"
   ]
  },
  {
   "cell_type": "code",
   "execution_count": null,
   "metadata": {},
   "outputs": [],
   "source": [
    "from Bio.SeqRecord import SeqRecord\n",
    "from Bio.Align import MultipleSeqAlignment\n",
    "from Bio.Seq import Seq\n",
    "from Bio import AlignIO"
   ]
  },
  {
   "cell_type": "code",
   "execution_count": null,
   "metadata": {},
   "outputs": [],
   "source": [
    "seqs = []\n",
    "for seq in record3:\n",
    "    seqs.append(seq)\n",
    "\n",
    "alin3 = MultipleSeqAlignment(seqs)\n",
    "print(alin3)\n",
    "print(alin3.get_alignment_length())"
   ]
  },
  {
   "cell_type": "code",
   "execution_count": null,
   "metadata": {},
   "outputs": [],
   "source": [
    "ficheirofasta3 = AlignIO.write(alin3, \"resultados_alin_NEUROG3\", \"fasta\")"
   ]
  },
  {
   "cell_type": "code",
   "execution_count": null,
   "metadata": {},
   "outputs": [],
   "source": [
    "record_seq = AlignIO.parse(\"resultados_alin_NEUROG3\", \"fasta\")\n",
    "\n",
    "converter_stock = AlignIO.parse(\"resultados_alin_NEUROG3\", \"fasta\")\n",
    "ficheirostock = AlignIO.write([c for c in converter_stock], \"resultados_align_NEUROG3_stock.sth\", \"stockholm\")"
   ]
  },
  {
   "cell_type": "code",
   "execution_count": null,
   "metadata": {},
   "outputs": [],
   "source": [
    "alignment3 = AlignIO.read(\"resultados_align_NEUROG3_stock.sth\", \"stockholm\")\n",
    "print(alignment3)"
   ]
  },
  {
   "cell_type": "code",
   "execution_count": null,
   "metadata": {},
   "outputs": [],
   "source": [
    "from Bio.Phylo.TreeConstruction import DistanceCalculator"
   ]
  },
  {
   "cell_type": "code",
   "execution_count": null,
   "metadata": {},
   "outputs": [],
   "source": [
    "calculator = DistanceCalculator('blosum62')\n",
    "dm3 = calculator.get_distance(alignment3)\n",
    "print(dm3)"
   ]
  },
  {
   "cell_type": "code",
   "execution_count": null,
   "metadata": {},
   "outputs": [],
   "source": [
    "from Bio.Phylo.TreeConstruction import DistanceTreeConstructor"
   ]
  },
  {
   "cell_type": "code",
   "execution_count": null,
   "metadata": {},
   "outputs": [],
   "source": [
    "constructor = DistanceTreeConstructor()\n",
    "upgmatree_NEUROG3 = constructor.upgma(dm3)"
   ]
  },
  {
   "cell_type": "code",
   "execution_count": null,
   "metadata": {},
   "outputs": [],
   "source": [
    "print(upgmatree_NEUROG3)"
   ]
  },
  {
   "cell_type": "code",
   "execution_count": null,
   "metadata": {},
   "outputs": [],
   "source": [
    "from Bio import Phylo\n",
    "Phylo.draw_ascii(upgmatree_NEUROG3)"
   ]
  },
  {
   "cell_type": "code",
   "execution_count": null,
   "metadata": {},
   "outputs": [],
   "source": [
    "njtree_NEUROG3 = constructor.nj(dm3)\n",
    "print(njtree_NEUROG3)"
   ]
  },
  {
   "cell_type": "code",
   "execution_count": null,
   "metadata": {},
   "outputs": [],
   "source": [
    "Phylo.draw_ascii(njtree_NEUROG3)"
   ]
  },
  {
   "cell_type": "code",
   "execution_count": null,
   "metadata": {},
   "outputs": [],
   "source": [
    "# acabar parte de conservação dos dominios e + (ficha 9)"
   ]
  }
 ],
 "metadata": {
  "kernelspec": {
   "display_name": "Python 3",
   "language": "python",
   "name": "python3"
  },
  "language_info": {
   "codemirror_mode": {
    "name": "ipython",
    "version": 3
   },
   "file_extension": ".py",
   "mimetype": "text/x-python",
   "name": "python",
   "nbconvert_exporter": "python",
   "pygments_lexer": "ipython3",
   "version": "3.8.5"
  }
 },
 "nbformat": 4,
 "nbformat_minor": 4
}
