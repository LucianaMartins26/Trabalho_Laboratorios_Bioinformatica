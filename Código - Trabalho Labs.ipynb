{
 "cells": [
  {
   "cell_type": "markdown",
   "metadata": {},
   "source": [
    "## Análise da sequência e das features presentes no NCBI"
   ]
  },
  {
   "cell_type": "code",
   "execution_count": 1,
   "metadata": {},
   "outputs": [
    {
     "name": "stdout",
     "output_type": "stream",
     "text": [
      "Record accession:  NM_020999.4\n",
      "Record sequence length:  1560\n",
      "Record description:  Homo sapiens neurogenin 3 (NEUROG3), mRNA\n",
      "Record annotations:  {'molecule_type': 'mRNA', 'topology': 'linear', 'data_file_division': 'PRI', 'date': '25-DEC-2022', 'accessions': ['NM_020999'], 'sequence_version': 4, 'keywords': ['RefSeq', 'MANE Select'], 'source': 'Homo sapiens (human)', 'organism': 'Homo sapiens', 'taxonomy': ['Eukaryota', 'Metazoa', 'Chordata', 'Craniata', 'Vertebrata', 'Euteleostomi', 'Mammalia', 'Eutheria', 'Euarchontoglires', 'Primates', 'Haplorrhini', 'Catarrhini', 'Hominidae', 'Homo'], 'references': [Reference(title='Protein Production and Purification of a Codon-Optimized Human NGN3 Transcription Factor from E. coli', ...), Reference(title='Extensive NEUROG3 occupancy in the human pancreatic endocrine gene regulatory network', ...), Reference(title='Gene Signatures of NEUROGENIN3+ Endocrine Progenitor Cells in the Human Pancreas', ...), Reference(title='Effect of NEUROG3 polymorphism rs144643855 on regional spontaneous brain activity in major depressive disorder', ...), Reference(title='Recognition of maturity-onset diabetes of the young in China', ...), Reference(title='Mutations in the coding region of the neurogenin 3 gene (NEUROG3) are not a common cause of maturity-onset diabetes of the young in Japanese subjects', ...), Reference(title='Variants of neurogenin 3 gene are not associated with Type II diabetes in Japanese subjects', ...), Reference(title='Polymorphisms in the neurogenin 3 gene (NEUROG) and their relation to altered insulin secretion and diabetes in the Danish Caucasian population', ...), Reference(title='neurogenin3 is required for the development of the four endocrine cell lineages of the pancreas', ...), Reference(title='neurogenins, a novel family of atonal-related bHLH transcription factors, are putative mammalian neuronal determination genes that reveal progenitor cell heterogeneity in the developing CNS and PNS', ...)], 'comment': 'REVIEWED REFSEQ: This record has been curated by NCBI staff. The\\nreference sequence was derived from AK313952.1, BC069098.1 and\\nAL450311.11.\\nThis sequence is a reference standard in the RefSeqGene project.\\nOn May 17, 2019 this sequence version replaced NM_020999.3.\\nSummary: The protein encoded by this gene is a basic\\nhelix-loop-helix (bHLH) transcription factor involved in\\nneurogenesis. The encoded protein likely acts as a heterodimer with\\nanother bHLH protein. Defects in this gene are a cause of\\ncongenital malabsorptive diarrhea 4 (DIAR4).[provided by RefSeq,\\nMay 2010].\\nPublication Note:  This RefSeq record includes a subset of the\\npublications that are available for this gene. Please see the Gene\\nrecord to access additional publications.', 'structured_comment': OrderedDict([('Evidence-Data', OrderedDict([('Transcript exon combination', 'BC069098.1, AK313952.1 [ECO:0000332]'), ('RNAseq introns', 'single sample supports all introns SAMEA2142348, SAMEA2144120 [ECO:0000348]')])), ('RefSeq-Attributes', OrderedDict([('MANE Ensembl match', 'ENST00000242462.5/ ENSP00000242462.4'), ('RefSeq Select criteria', 'based on conservation, expression, longest protein')]))])}\n",
      "Record external references:  []\n",
      "Record features count:  6\n",
      "Record features:  [SeqFeature(FeatureLocation(ExactPosition(0), ExactPosition(1560), strand=1), type='source'), SeqFeature(FeatureLocation(ExactPosition(0), ExactPosition(1560), strand=1), type='gene'), SeqFeature(FeatureLocation(ExactPosition(0), ExactPosition(213), strand=1), type='exon'), SeqFeature(FeatureLocation(ExactPosition(213), ExactPosition(1560), strand=1), type='exon'), SeqFeature(FeatureLocation(ExactPosition(214), ExactPosition(859), strand=1), type='CDS'), SeqFeature(FeatureLocation(ExactPosition(214), ExactPosition(508), strand=1), type='misc_feature')]\n",
      "['neurogenin-3']\n",
      "['MTPQPSGAPTVQVTRETERSFPRASEDEVTCPTSAPPSPTRTRGNCAEAEEGGCRGAPRKLRARRGGRSRPKSELALSKQRRSRRKKANDRERNRMHNLNSALDALRGVLPTFPDDAKLTKIETLRFAHNYIWALTQTLRIADHSLYALEPPAPHCGELGSPGGSPGDWGSLYSPVSQAGSLSPAASLEERPGLLGATFSACLSPGSLAFSDFL']\n"
     ]
    }
   ],
   "source": [
    "from Bio import SeqIO\n",
    "from Bio import Entrez\n",
    "\n",
    "Entrez.email = 'lucianacmartins8@gmail.com'\n",
    "search_handler = Entrez.esearch(db = \"nucleotide\", term = \"Homo sapiens[Orgn] AND NEUROG3[Gene]\")\n",
    "\n",
    "search_records = Entrez.read(search_handler)\n",
    "indices_CDS = []\n",
    "\n",
    "for record_id in search_records['IdList']:\n",
    "    fetch_handler = Entrez.efetch(db=\"nucleotide\", id=record_id, rettype=\"gb\", retmode=\"text\")\n",
    "    fetch_records = SeqIO.parse(fetch_handler, 'genbank')\n",
    "\n",
    "    for record in fetch_records:\n",
    "        if record.id == \"NM_020999.4\":\n",
    "            print('Record accession: ', record.id)\n",
    "            print('Record sequence length: ', len(record.seq))\n",
    "            print('Record description: ', record.description)\n",
    "            print('Record annotations: ', record.annotations)\n",
    "            print('Record external references: ', record.dbxrefs)\n",
    "            print('Record features count: ', len(record.features))\n",
    "            print('Record features: ', record.features)\n",
    "        \n",
    "            indices_CDS = []\n",
    "            for n, feature in enumerate(record.features):\n",
    "                if feature.type == \"CDS\":\n",
    "                    indices_CDS.append(n)\n",
    "                    for a in indices_CDS:\n",
    "                        if len(indices_CDS) != 0:\n",
    "                            print(record.features[a].qualifiers['product'])\n",
    "                            print(record.features[a].qualifiers['translation'])"
   ]
  },
  {
   "cell_type": "code",
   "execution_count": 2,
   "metadata": {},
   "outputs": [
    {
     "name": "stdout",
     "output_type": "stream",
     "text": [
      "Record accession:  NM_024408.4\n",
      "Record sequence length:  11425\n",
      "Record description:  Homo sapiens notch receptor 2 (NOTCH2), transcript variant 1, mRNA\n",
      "Record annotations:  {'molecule_type': 'mRNA', 'topology': 'linear', 'data_file_division': 'PRI', 'date': '09-OCT-2022', 'accessions': ['NM_024408', 'XM_941698', 'XM_945379'], 'sequence_version': 4, 'keywords': ['RefSeq', 'MANE Select'], 'source': 'Homo sapiens (human)', 'organism': 'Homo sapiens', 'taxonomy': ['Eukaryota', 'Metazoa', 'Chordata', 'Craniata', 'Vertebrata', 'Euteleostomi', 'Mammalia', 'Eutheria', 'Euarchontoglires', 'Primates', 'Haplorrhini', 'Catarrhini', 'Hominidae', 'Homo'], 'references': [Reference(title='Patients with biallelic GGC repeat expansions in NOTCH2NLC exhibiting a typical neuronal intranuclear inclusion disease phenotype', ...), Reference(title='Defining pathogenicity of NOTCH2 variants for diagnosis of Alagille syndrome type 2 using a large cohort of patients', ...), Reference(title='gamma-Secretase inhibitors suppress IL-20-mediated osteoclastogenesis via Notch signalling and are affected by Notch2 in vitro', ...), Reference(title='MiR-222-3p inhibits formation of medulloblastoma stem-like cells by targeting Notch2/c-myc signaling pathway', ...), Reference(title='Reciprocal Regulation of BRN2 and NOTCH1/2 Signaling Synergistically Drives Melanoma Cell Migration and Invasion', ...), Reference(title='Epstein-Barr virus immortalization: Notch2 interacts with CBF1 and blocks differentiation', ...), Reference(title='Paralogy mapping: identification of a region in the human MHC triplicated onto human chromosomes 1 and 9 allows the prediction and isolation of novel PBX and NOTCH loci', ...), Reference(title='The human NOTCH1, 2, and 3 genes are located at chromosome positions 9q34, 1p13-p11, and 19p13.2-p13.1 in regions of neoplasia-associated translocation', ...), Reference(title='Alagille Syndrome', ...), Reference(title='Human homologs of a Drosophila Enhancer of split gene product define a novel family of nuclear proteins', ...)], 'comment': 'REVIEWED REFSEQ: This record has been curated by NCBI staff. The\\nreference sequence was derived from DB290699.1, BC071562.1,\\nAF315356.1 and AL133036.1.\\nThis sequence is a reference standard in the RefSeqGene project.\\nOn Nov 23, 2018 this sequence version replaced NM_024408.3.\\nSummary: This gene encodes a member of the Notch family. Members of\\nthis Type 1 transmembrane protein family share structural\\ncharacteristics including an extracellular domain consisting of\\nmultiple epidermal growth factor-like (EGF) repeats, and an\\nintracellular domain consisting of multiple, different domain\\ntypes. Notch family members play a role in a variety of\\ndevelopmental processes by controlling cell fate decisions. The\\nNotch signaling network is an evolutionarily conserved\\nintercellular signaling pathway which regulates interactions\\nbetween physically adjacent cells. In Drosophilia, notch\\ninteraction with its cell-bound ligands (delta, serrate)\\nestablishes an intercellular signaling pathway that plays a key\\nrole in development. Homologues of the notch-ligands have also been\\nidentified in human, but precise interactions between these ligands\\nand the human notch homologues remain to be determined. This\\nprotein is cleaved in the trans-Golgi network, and presented on the\\ncell surface as a heterodimer. This protein functions as a receptor\\nfor membrane bound ligands, and may play a role in vascular, renal\\nand hepatic development. Two transcript variants encoding different\\nisoforms have been found for this gene. [provided by RefSeq, Jan\\n2011].\\nTranscript Variant: This variant (1) represents the longer\\ntranscript and encodes the longer isoform (1).\\nPublication Note:  This RefSeq record includes a subset of the\\npublications that are available for this gene. Please see the Gene\\nrecord to access additional publications.\\nCOMPLETENESS: full length.', 'structured_comment': OrderedDict([('Evidence-Data', OrderedDict([('Transcript exon combination', 'SRR14038197.2645516.1, SRR11853559.2248.1 [ECO:0000332]')])), ('RefSeq-Attributes', OrderedDict([('MANE Ensembl match', 'ENST00000256646.7/ ENSP00000256646.2'), ('RefSeq Select criteria', 'based on conservation, expression, longest protein')]))])}\n",
      "Record external references:  []\n",
      "Record features count:  49\n",
      "Record features:  [SeqFeature(FeatureLocation(ExactPosition(0), ExactPosition(11425), strand=1), type='source'), SeqFeature(FeatureLocation(ExactPosition(0), ExactPosition(11425), strand=1), type='gene'), SeqFeature(FeatureLocation(ExactPosition(0), ExactPosition(329), strand=1), type='exon'), SeqFeature(FeatureLocation(ExactPosition(256), ExactPosition(7672), strand=1), type='CDS'), SeqFeature(FeatureLocation(ExactPosition(256), ExactPosition(331), strand=1), type='sig_peptide'), SeqFeature(FeatureLocation(ExactPosition(331), ExactPosition(7669), strand=1), type='proprotein'), SeqFeature(FeatureLocation(ExactPosition(331), ExactPosition(5287), strand=1), type='mat_peptide'), SeqFeature(FeatureLocation(ExactPosition(5287), ExactPosition(7669), strand=1), type='mat_peptide'), SeqFeature(FeatureLocation(ExactPosition(329), ExactPosition(411), strand=1), type='exon'), SeqFeature(FeatureLocation(ExactPosition(411), ExactPosition(671), strand=1), type='exon'), SeqFeature(FeatureLocation(ExactPosition(671), ExactPosition(1007), strand=1), type='exon'), SeqFeature(FeatureLocation(ExactPosition(1007), ExactPosition(1130), strand=1), type='exon'), SeqFeature(FeatureLocation(ExactPosition(1130), ExactPosition(1364), strand=1), type='exon'), SeqFeature(FeatureLocation(ExactPosition(1364), ExactPosition(1520), strand=1), type='exon'), SeqFeature(FeatureLocation(ExactPosition(1520), ExactPosition(1709), strand=1), type='exon'), SeqFeature(FeatureLocation(ExactPosition(1709), ExactPosition(1823), strand=1), type='exon'), SeqFeature(FeatureLocation(ExactPosition(1823), ExactPosition(1937), strand=1), type='exon'), SeqFeature(FeatureLocation(ExactPosition(1937), ExactPosition(2171), strand=1), type='exon'), SeqFeature(FeatureLocation(ExactPosition(2171), ExactPosition(2282), strand=1), type='exon'), SeqFeature(FeatureLocation(ExactPosition(2282), ExactPosition(2475), strand=1), type='exon'), SeqFeature(FeatureLocation(ExactPosition(2475), ExactPosition(2621), strand=1), type='exon'), SeqFeature(FeatureLocation(ExactPosition(2621), ExactPosition(2735), strand=1), type='exon'), SeqFeature(FeatureLocation(ExactPosition(2735), ExactPosition(2855), strand=1), type='exon'), SeqFeature(FeatureLocation(ExactPosition(2855), ExactPosition(3008), strand=1), type='exon'), SeqFeature(FeatureLocation(ExactPosition(3008), ExactPosition(3237), strand=1), type='exon'), SeqFeature(FeatureLocation(ExactPosition(3237), ExactPosition(3439), strand=1), type='exon'), SeqFeature(FeatureLocation(ExactPosition(3439), ExactPosition(3593), strand=1), type='exon'), SeqFeature(FeatureLocation(ExactPosition(3593), ExactPosition(3778), strand=1), type='exon'), SeqFeature(FeatureLocation(ExactPosition(3778), ExactPosition(3911), strand=1), type='exon'), SeqFeature(FeatureLocation(ExactPosition(3911), ExactPosition(4148), strand=1), type='exon'), SeqFeature(FeatureLocation(ExactPosition(4148), ExactPosition(4261), strand=1), type='exon'), SeqFeature(FeatureLocation(ExactPosition(4261), ExactPosition(4767), strand=1), type='exon'), SeqFeature(FeatureLocation(ExactPosition(4767), ExactPosition(5115), strand=1), type='exon'), SeqFeature(FeatureLocation(ExactPosition(5115), ExactPosition(5258), strand=1), type='exon'), SeqFeature(FeatureLocation(ExactPosition(5258), ExactPosition(5469), strand=1), type='exon'), SeqFeature(FeatureLocation(ExactPosition(5469), ExactPosition(5566), strand=1), type='exon'), SeqFeature(FeatureLocation(ExactPosition(5566), ExactPosition(5735), strand=1), type='exon'), SeqFeature(FeatureLocation(ExactPosition(5735), ExactPosition(6037), strand=1), type='exon'), SeqFeature(FeatureLocation(ExactPosition(6037), ExactPosition(6185), strand=1), type='exon'), SeqFeature(FeatureLocation(ExactPosition(6185), ExactPosition(6283), strand=1), type='exon'), SeqFeature(FeatureLocation(ExactPosition(6283), ExactPosition(11425), strand=1), type='exon'), SeqFeature(FeatureLocation(ExactPosition(10899), ExactPosition(10905), strand=1), type='regulatory'), SeqFeature(FeatureLocation(ExactPosition(10922), ExactPosition(10923), strand=1), type='polyA_site'), SeqFeature(FeatureLocation(ExactPosition(11327), ExactPosition(11333), strand=1), type='regulatory'), SeqFeature(FeatureLocation(ExactPosition(11344), ExactPosition(11350), strand=1), type='regulatory'), SeqFeature(FeatureLocation(ExactPosition(11348), ExactPosition(11349), strand=1), type='polyA_site'), SeqFeature(FeatureLocation(ExactPosition(11363), ExactPosition(11364), strand=1), type='polyA_site'), SeqFeature(FeatureLocation(ExactPosition(11395), ExactPosition(11401), strand=1), type='regulatory'), SeqFeature(FeatureLocation(ExactPosition(11424), ExactPosition(11425), strand=1), type='polyA_site')]\n",
      "['neurogenic locus notch homolog protein 2 isoform 1 preproprotein']\n",
      "['MPALRPALLWALLALWLCCAAPAHALQCRDGYEPCVNEGMCVTYHNGTGYCKCPEGFLGEYCQHRDPCEKNRCQNGGTCVAQAMLGKATCRCASGFTGEDCQYSTSHPCFVSRPCLNGGTCHMLSRDTYECTCQVGFTGKECQWTDACLSHPCANGSTCTTVANQFSCKCLTGFTGQKCETDVNECDIPGHCQHGGTCLNLPGSYQCQCPQGFTGQYCDSLYVPCAPSPCVNGGTCRQTGDFTFECNCLPGFEGSTCERNIDDCPNHRCQNGGVCVDGVNTYNCRCPPQWTGQFCTEDVDECLLQPNACQNGGTCANRNGGYGCVCVNGWSGDDCSENIDDCAFASCTPGSTCIDRVASFSCMCPEGKAGLLCHLDDACISNPCHKGALCDTNPLNGQYICTCPQGYKGADCTEDVDECAMANSNPCEHAGKCVNTDGAFHCECLKGYAGPRCEMDINECHSDPCQNDATCLDKIGGFTCLCMPGFKGVHCELEINECQSNPCVNNGQCVDKVNRFQCLCPPGFTGPVCQIDIDDCSSTPCLNGAKCIDHPNGYECQCATGFTGVLCEENIDNCDPDPCHHGQCQDGIDSYTCICNPGYMGAICSDQIDECYSSPCLNDGRCIDLVNGYQCNCQPGTSGVNCEINFDDCASNPCIHGICMDGINRYSCVCSPGFTGQRCNIDIDECASNPCRKGATCINGVNGFRCICPEGPHHPSCYSQVNECLSNPCIHGNCTGGLSGYKCLCDAGWVGINCEVDKNECLSNPCQNGGTCDNLVNGYRCTCKKGFKGYNCQVNIDECASNPCLNQGTCFDDISGYTCHCVLPYTGKNCQTVLAPCSPNPCENAAVCKESPNFESYTCLCAPGWQGQRCTIDIDECISKPCMNHGLCHNTQGSYMCECPPGFSGMDCEEDIDDCLANPCQNGGSCMDGVNTFSCLCLPGFTGDKCQTDMNECLSEPCKNGGTCSDYVNSYTCKCQAGFDGVHCENNINECTESSCFNGGTCVDGINSFSCLCPVGFTGSFCLHEINECSSHPCLNEGTCVDGLGTYRCSCPLGYTGKNCQTLVNLCSRSPCKNKGTCVQKKAESQCLCPSGWAGAYCDVPNVSCDIAASRRGVLVEHLCQHSGVCINAGNTHYCQCPLGYTGSYCEEQLDECASNPCQHGATCSDFIGGYRCECVPGYQGVNCEYEVDECQNQPCQNGGTCIDLVNHFKCSCPPGTRGLLCEENIDDCARGPHCLNGGQCMDRIGGYSCRCLPGFAGERCEGDINECLSNPCSSEGSLDCIQLTNDYLCVCRSAFTGRHCETFVDVCPQMPCLNGGTCAVASNMPDGFICRCPPGFSGARCQSSCGQVKCRKGEQCVHTASGPRCFCPSPRDCESGCASSPCQHGGSCHPQRQPPYYSCQCAPPFSGSRCELYTAPPSTPPATCLSQYCADKARDGVCDEACNSHACQWDGGDCSLTMENPWANCSSPLPCWDYINNQCDELCNTVECLFDNFECQGNSKTCKYDKYCADHFKDNHCDQGCNSEECGWDGLDCAADQPENLAEGTLVIVVLMPPEQLLQDARSFLRALGTLLHTNLRIKRDSQGELMVYPYYGEKSAAMKKQRMTRRSLPGEQEQEVAGSKVFLEIDNRQCVQDSDHCFKNTDAAAALLASHAIQGTLSYPLVSVVSESLTPERTQLLYLLAVAVVIILFIILLGVIMAKRKRKHGSLWLPEGFTLRRDASNHKRREPVGQDAVGLKNLSVQVSEANLIGTGTSEHWVDDEGPQPKKVKAEDEALLSEEDDPIDRRPWTQQHLEAADIRRTPSLALTPPQAEQEVDVLDVNVRGPDGCTPLMLASLRGGSSDLSDEDEDAEDSSANIITDLVYQGASLQAQTDRTGEMALHLAARYSRADAAKRLLDAGADANAQDNMGRCPLHAAVAADAQGVFQILIRNRVTDLDARMNDGTTPLILAARLAVEGMVAELINCQADVNAVDDHGKSALHWAAAVNNVEATLLLLKNGANRDMQDNKEETPLFLAAREGSYEAAKILLDHFANRDITDHMDRLPRDVARDRMHHDIVRLLDEYNVTPSPPGTVLTSALSPVICGPNRSFLSLKHTPMGKKSRRPSAKSTMPTSLPNLAKEAKDAKGSRRKKSLSEKVQLSESSVTLSPVDSLESPHTYVSDTTSSPMITSPGILQASPNPMLATAAPPAPVHAQHALSFSNLHEMQPLAHGASTVLPSVSQLLSHHHIVSPGSGSAGSLSRLHPVPVPADWMNRMEVNETQYNEMFGMVLAPAEGTHPGIAPQSRPPEGKHITTPREPLPPIVTFQLIPKGSIAQPAGAPQPQSTCPPAVAGPLPTMYQIPEMARLPSVAFPTAMMPQQDGQVAQTILPAYHPFPASVGKYPTPPSQHSYASSNAAERTPSHSGHLQGEHPYLTPSPESPDQWSSSSPHSASDWSDVTTSPTPGGAGGGQRGPGTHMSEPPHNNMQVYA']\n"
     ]
    }
   ],
   "source": [
    "Entrez.email = 'analisboasan@gmail.com'\n",
    "search_handler = Entrez.esearch(db = \"nucleotide\", term = \"Homo sapiens[Orgn] AND NOTCH2[Gene]\") \n",
    "\n",
    "search_records = Entrez.read(search_handler)\n",
    "indices_CDS = []\n",
    "\n",
    "for record_id in search_records['IdList']:\n",
    "    fetch_handler = Entrez.efetch(db=\"nucleotide\", id=record_id, rettype=\"gb\", retmode=\"text\")\n",
    "    fetch_records = SeqIO.parse(fetch_handler, 'genbank')\n",
    "\n",
    "    for record in fetch_records:\n",
    "        if record.id == \"NM_024408.4\":\n",
    "            print('Record accession: ', record.id)\n",
    "            print('Record sequence length: ', len(record.seq))\n",
    "            print('Record description: ', record.description)\n",
    "            print('Record annotations: ', record.annotations)\n",
    "            print('Record external references: ', record.dbxrefs)\n",
    "            print('Record features count: ', len(record.features))\n",
    "            print('Record features: ', record.features)\n",
    "        \n",
    "            indices_CDS = []\n",
    "            for n, feature in enumerate(record.features):\n",
    "                if feature.type == \"CDS\":\n",
    "                    indices_CDS.append(n)\n",
    "                    for a in indices_CDS:\n",
    "                        if len(indices_CDS) != 0:\n",
    "                            print(record.features[a].qualifiers['product'])\n",
    "                            print(record.features[a].qualifiers['translation'])"
   ]
  },
  {
   "cell_type": "code",
   "execution_count": 3,
   "metadata": {},
   "outputs": [
    {
     "name": "stdout",
     "output_type": "stream",
     "text": [
      "Record accession:  NM_015375.3\n",
      "Record sequence length:  8010\n",
      "Record description:  Homo sapiens dual serine/threonine and tyrosine protein kinase (DSTYK), transcript variant 1, mRNA\n",
      "Record annotations:  {'molecule_type': 'mRNA', 'topology': 'linear', 'data_file_division': 'PRI', 'date': '24-DEC-2022', 'accessions': ['NM_015375'], 'sequence_version': 3, 'keywords': ['RefSeq', 'MANE Select'], 'source': 'Homo sapiens (human)', 'organism': 'Homo sapiens', 'taxonomy': ['Eukaryota', 'Metazoa', 'Chordata', 'Craniata', 'Vertebrata', 'Euteleostomi', 'Mammalia', 'Eutheria', 'Euarchontoglires', 'Primates', 'Haplorrhini', 'Catarrhini', 'Hominidae', 'Homo'], 'references': [Reference(title='DSTYK inhibition increases the sensitivity of lung cancer cells to T cell-mediated cytotoxicity', ...), Reference(title='DSTYK Enhances Chemoresistance in Triple-Negative Breast Cancer Cells', ...), Reference(title='RIPK3 promotes adenovirus type 5 activity', ...), Reference(title='Large Intragenic Deletion in DSTYK Underlies Autosomal-Recessive Complicated Spastic Paraparesis, SPG23', ...), Reference(title='A genome- and phenome-wide association study to identify genetic variants influencing platelet count and volume and their pleiotropic effects', ...), Reference(title='Dusty protein kinases: primary structure, gene evolution, tissue specific expression and unique features of the catalytic domain', ...), Reference(title='A germline-specific class of small RNAs binds mammalian Piwi proteins', ...), Reference(title='RIP5 is a RIP-homologous inducer of cell death', ...), Reference(title='A locus for complicated hereditary spastic paraplegia maps to chromosome 1q24-q32', ...), Reference(title='Isolation of novel and known genes from a human fetal cochlear cDNA library using subtractive hybridization and differential screening', ...)], 'comment': 'REVIEWED REFSEQ: This record has been curated by NCBI staff. The\\nreference sequence was derived from AC093422.3, BC060870.1 and\\nAY429674.1.\\nThis sequence is a reference standard in the RefSeqGene project.\\nOn Nov 23, 2018 this sequence version replaced NM_015375.2.\\nSummary: This gene encodes a dual serine/threonine and tyrosine\\nprotein kinase which is expressed in multiple tissues. It is\\nthought to function as a regulator of cell death. Multiple\\ntranscript variants encoding different isoforms have been found for\\nthis gene. [provided by RefSeq, Dec 2008].\\nTranscript Variant: This variant (1) encodes the longer isoform\\n(1).\\nPublication Note:  This RefSeq record includes a subset of the\\npublications that are available for this gene. Please see the Gene\\nrecord to access additional publications.\\nCOMPLETENESS: full length.', 'structured_comment': OrderedDict([('Evidence-Data', OrderedDict([('Transcript exon combination', 'AY429674.1, SRR1803612.60623.1 [ECO:0000332]')])), ('RefSeq-Attributes', OrderedDict([('MANE Ensembl match', 'ENST00000367162.8/ ENSP00000356130.3'), ('RefSeq Select criteria', 'based on conservation, expression, longest protein')]))])}\n",
      "Record external references:  []\n",
      "Record features count:  19\n",
      "Record features:  [SeqFeature(FeatureLocation(ExactPosition(0), ExactPosition(8010), strand=1), type='source'), SeqFeature(FeatureLocation(ExactPosition(0), ExactPosition(8010), strand=1), type='gene'), SeqFeature(FeatureLocation(ExactPosition(0), ExactPosition(432), strand=1), type='exon'), SeqFeature(FeatureLocation(ExactPosition(167), ExactPosition(2957), strand=1), type='CDS'), SeqFeature(FeatureLocation(ExactPosition(167), ExactPosition(230), strand=1), type='misc_feature'), SeqFeature(FeatureLocation(ExactPosition(432), ExactPosition(821), strand=1), type='exon'), SeqFeature(FeatureLocation(ExactPosition(821), ExactPosition(1491), strand=1), type='exon'), SeqFeature(FeatureLocation(ExactPosition(1491), ExactPosition(1724), strand=1), type='exon'), SeqFeature(FeatureLocation(ExactPosition(1724), ExactPosition(1808), strand=1), type='exon'), SeqFeature(FeatureLocation(ExactPosition(1808), ExactPosition(1985), strand=1), type='exon'), SeqFeature(FeatureLocation(ExactPosition(1985), ExactPosition(2115), strand=1), type='exon'), SeqFeature(FeatureLocation(ExactPosition(2115), ExactPosition(2272), strand=1), type='exon'), SeqFeature(FeatureLocation(ExactPosition(2272), ExactPosition(2405), strand=1), type='exon'), SeqFeature(FeatureLocation(ExactPosition(2405), ExactPosition(2519), strand=1), type='exon'), SeqFeature(FeatureLocation(ExactPosition(2519), ExactPosition(2634), strand=1), type='exon'), SeqFeature(FeatureLocation(ExactPosition(2634), ExactPosition(2769), strand=1), type='exon'), SeqFeature(FeatureLocation(ExactPosition(2769), ExactPosition(8010), strand=1), type='exon'), SeqFeature(FeatureLocation(ExactPosition(7988), ExactPosition(7994), strand=1), type='regulatory'), SeqFeature(FeatureLocation(ExactPosition(8009), ExactPosition(8010), strand=1), type='polyA_site')]\n",
      "['dual serine/threonine and tyrosine protein kinase isoform 1']\n",
      "['MEGDGVPWGSEPVSGPGPGGGGMIRELCRGFGRYRRYLGRLRQNLRETQKFFRDIKCSHNHTCLSSLTGGGGAERGPAGDVAETGLQAGQLSCISFPPKEEKYLQQIVDCLPCILILGQDCNVKCQLLNLLLGVQVLPTTKLGSEESCKLRRLRFTYGTQTRVSLALPGQYELVHTLVAHQGNWETIPEEDLEVQENNEDAAHVLAELEVTMHHALLQEVDVVVAPCQGLRPTVDVLGDLVNDFLPVITYALHKDELSERDEQELQEIRKYFSFPVFFFKVPKLGSEIIDSSTRRMESERSPLYRQLIDLGYLSSSHWNCGAPGQDTKAQSMLVEQSEKLRHLSTFSHQVLQTRLVDAAKALNLVHCHCLDIFINQAFDMQRDLQITPKRLEYTRKKENELYESLMNIANRKQEEMKDMIVETLNTMKEELLDDATNMEFKDVIVPENGEPVGTREIKCCIRQIQELIISRLNQAVANKLISSVDYLRESFVGTLERCLQSLEKSQDVSVHITSNYLKQILNAAYHVEVTFHSGSSVTRMLWEQIKQIIQRITWVSPPAITLEWKRKVAQEAIESLSASKLAKSICSQFRTRLNSSHEAFAASLRQLEAGHSGRLEKTEDLWLRVRKDHAPRLARLSLESCSLQDVLLHRKPKLGQELGRGQYGVVYLCDNWGGHFPCALKSVVPPDEKHWNDLALEFHYMRSLPKHERLVDLHGSVIDYNYGGGSSIAVLLIMERLHRDLYTGLKAGLTLETRLQIALDVVEGIRFLHSQGLVHRDIKLKNVLLDKQNRAKITDLGFCKPEAMMSGSIVGTPIHMAPELFTGKYDNSVDVYAFGILFWYICSGSVKLPEAFERCASKDHLWNNVRRGARPERLPVFDEECWQLMEACWDGDPLKRPLLGIVQPMLQGIMNRLCKSNSEQPNRGLDDST']\n"
     ]
    }
   ],
   "source": [
    "Entrez.email = 'bruna_dfa@hotmail.com'\n",
    "search_handler = Entrez.esearch(db = \"nucleotide\", term = \"Homo sapiens[Orgn] AND DSTYK[Gene]\") \n",
    "\n",
    "search_records = Entrez.read(search_handler)\n",
    "indices_CDS = []\n",
    "\n",
    "for record_id in search_records['IdList']:\n",
    "    fetch_handler = Entrez.efetch(db=\"nucleotide\", id=record_id, rettype=\"gb\", retmode=\"text\")\n",
    "    fetch_records = SeqIO.parse(fetch_handler, 'genbank')\n",
    "\n",
    "    for record in fetch_records:\n",
    "        if record.id == \"NM_015375.3\":\n",
    "            print('Record accession: ', record.id)\n",
    "            print('Record sequence length: ', len(record.seq))\n",
    "            print('Record description: ', record.description)\n",
    "            print('Record annotations: ', record.annotations)\n",
    "            print('Record external references: ', record.dbxrefs)\n",
    "            print('Record features count: ', len(record.features))\n",
    "            print('Record features: ', record.features)\n",
    "        \n",
    "            indices_CDS = []\n",
    "            for n, feature in enumerate(record.features):\n",
    "                if feature.type == \"CDS\":\n",
    "                    indices_CDS.append(n)\n",
    "                    for a in indices_CDS:\n",
    "                        if len(indices_CDS) != 0:\n",
    "                            print(record.features[a].qualifiers['product'])\n",
    "                            print(record.features[a].qualifiers['translation'])"
   ]
  },
  {
   "cell_type": "markdown",
   "metadata": {},
   "source": [
    "## Análise de homologias por BLAST ou Diamond"
   ]
  },
  {
   "cell_type": "markdown",
   "metadata": {},
   "source": [
    "### NEUROG3"
   ]
  },
  {
   "cell_type": "code",
   "execution_count": 4,
   "metadata": {},
   "outputs": [],
   "source": [
    "from Bio.Blast import NCBIXML \n",
    "from Bio.Blast import NCBIWWW \n",
    "from Bio import SeqIO\n",
    "\n",
    "record1 = SeqIO.read(open(\"rs177045_sequence.fa\"), format=\"fasta\")"
   ]
  },
  {
   "cell_type": "code",
   "execution_count": 5,
   "metadata": {},
   "outputs": [],
   "source": [
    "result_handle1 = NCBIWWW.qblast(\"blastn\", \"nt\", record1.format(\"fasta\"))"
   ]
  },
  {
   "cell_type": "code",
   "execution_count": 7,
   "metadata": {},
   "outputs": [],
   "source": [
    "save_file1 = open(\"blast_variante_NEUROG3.xml\", \"w\")\n",
    "save_file1.write(result_handle1.read()) \n",
    "save_file1.close()\n",
    "result_handle1.close()"
   ]
  },
  {
   "cell_type": "code",
   "execution_count": 8,
   "metadata": {},
   "outputs": [],
   "source": [
    "result_handle1 = open(\"blast_variante_NEUROG3.xml\")"
   ]
  },
  {
   "cell_type": "code",
   "execution_count": 9,
   "metadata": {},
   "outputs": [
    {
     "name": "stdout",
     "output_type": "stream",
     "text": [
      "*** Parâmetros Globais da Pesquisa ***\n",
      "Base de Dados usada:  nt\n",
      "Matriz de Substituição:  \n",
      "Parâmetros de Espaçamento:  (5, 2)\n"
     ]
    }
   ],
   "source": [
    "blast_records1 = NCBIXML.parse(result_handle1)\n",
    "for blast_record in blast_records1:\n",
    "    print(\"*** Parâmetros Globais da Pesquisa ***\")\n",
    "    print(\"Base de Dados usada: \" , blast_record.database)\n",
    "    print(\"Matriz de Substituição: \", blast_record.matrix)\n",
    "    print(\"Parâmetros de Espaçamento: \", blast_record.gap_penalties)"
   ]
  },
  {
   "cell_type": "code",
   "execution_count": 10,
   "metadata": {},
   "outputs": [
    {
     "name": "stdout",
     "output_type": "stream",
     "text": [
      "Existem 50 alinhamentos no registo.\n"
     ]
    }
   ],
   "source": [
    "result_handle1 = open(\"blast_variante_NEUROG3.xml\")\n",
    "resultado1 = NCBIXML.read(result_handle1)\n",
    "print(f\"Existem {len(resultado1.alignments)} alinhamentos no registo.\")"
   ]
  },
  {
   "cell_type": "code",
   "execution_count": 15,
   "metadata": {},
   "outputs": [
    {
     "name": "stdout",
     "output_type": "stream",
     "text": [
      "gi|14626972|emb|AL450311.11| Human DNA sequence from clone RP11-343J3 on chromosome 10, complete sequence\n",
      "           Length = 165110\n",
      "\n"
     ]
    }
   ],
   "source": [
    "print(resultado1.alignments[0])"
   ]
  },
  {
   "cell_type": "code",
   "execution_count": 12,
   "metadata": {},
   "outputs": [
    {
     "name": "stdout",
     "output_type": "stream",
     "text": [
      "AL450311\n",
      "Human DNA sequence from clone RP11-343J3 on chromosome 10, complete sequence\n",
      "0.0\n",
      "OW443374\n",
      "Orcinus orca genome assembly, chromosome: 14\n",
      "9.24774e-126\n",
      "CP050625\n",
      "Canis lupus familiaris breed Labrador retriever chromosome 04b\n",
      "2.17871e-89\n",
      "CP050572\n",
      "Canis lupus familiaris breed Labrador retriever chromosome 04a\n",
      "2.65421e-88\n",
      "HG994386\n",
      "Canis lupus genome assembly, chromosome: 4\n",
      "2.65421e-88\n"
     ]
    }
   ],
   "source": [
    "for a in resultado1.alignments[0:5]:\n",
    "    print(a.accession)\n",
    "    print(a.hit_def)\n",
    "    for b in a.hsps:\n",
    "        print(b.expect)"
   ]
  },
  {
   "cell_type": "markdown",
   "metadata": {},
   "source": [
    "### NOTCH2"
   ]
  },
  {
   "cell_type": "code",
   "execution_count": 16,
   "metadata": {},
   "outputs": [],
   "source": [
    "from Bio.Blast import NCBIXML \n",
    "from Bio.Blast import NCBIWWW \n",
    "from Bio import SeqIO\n",
    "\n",
    "record2 = SeqIO.read(open(\"rs1493694_sequence.fa\"), format=\"fasta\")"
   ]
  },
  {
   "cell_type": "code",
   "execution_count": 17,
   "metadata": {},
   "outputs": [],
   "source": [
    "result_handle2 = NCBIWWW.qblast(\"blastn\", \"nt\", record2.format(\"fasta\"))"
   ]
  },
  {
   "cell_type": "code",
   "execution_count": 18,
   "metadata": {},
   "outputs": [],
   "source": [
    "save_file2 = open(\"blast_variante_NOTCH2.xml\", \"w\")\n",
    "save_file2.write(result_handle2.read()) \n",
    "save_file2.close()\n",
    "result_handle2.close()"
   ]
  },
  {
   "cell_type": "code",
   "execution_count": 19,
   "metadata": {},
   "outputs": [],
   "source": [
    "result_handle2 = open(\"blast_variante_NOTCH2.xml\")"
   ]
  },
  {
   "cell_type": "code",
   "execution_count": 20,
   "metadata": {},
   "outputs": [
    {
     "name": "stdout",
     "output_type": "stream",
     "text": [
      "*** Parâmetros Globais da Pesquisa ***\n",
      "Base de Dados usada:  nt\n",
      "Matriz de Substituição:  \n",
      "Parâmetros de Espaçamento:  (5, 2)\n"
     ]
    }
   ],
   "source": [
    "blast_records2 = NCBIXML.parse(result_handle2)\n",
    "for blast_record in blast_records2:\n",
    "    print(\"*** Parâmetros Globais da Pesquisa ***\")\n",
    "    print(\"Base de Dados usada: \" , blast_record.database)\n",
    "    print(\"Matriz de Substituição: \", blast_record.matrix)\n",
    "    print(\"Parâmetros de Espaçamento: \", blast_record.gap_penalties)"
   ]
  },
  {
   "cell_type": "code",
   "execution_count": 21,
   "metadata": {},
   "outputs": [
    {
     "name": "stdout",
     "output_type": "stream",
     "text": [
      "Existem 50 alinhamentos no registo.\n"
     ]
    }
   ],
   "source": [
    "result_handle2 = open(\"blast_variante_NOTCH2.xml\")\n",
    "resultado2 = NCBIXML.read(result_handle2)\n",
    "print(f\"Existem {len(resultado2.alignments)} alinhamentos no registo.\")"
   ]
  },
  {
   "cell_type": "code",
   "execution_count": 22,
   "metadata": {},
   "outputs": [
    {
     "name": "stdout",
     "output_type": "stream",
     "text": [
      "gi|1601833237|gb|AC278627.1| Homo sapiens chromosome 1 clone VMRC62-112J14, complete sequence\n",
      "           Length = 176732\n",
      "\n"
     ]
    }
   ],
   "source": [
    "print(resultado2.alignments[0])"
   ]
  },
  {
   "cell_type": "code",
   "execution_count": 23,
   "metadata": {},
   "outputs": [
    {
     "name": "stdout",
     "output_type": "stream",
     "text": [
      "AC278627\n",
      "Homo sapiens chromosome 1 clone VMRC62-112J14, complete sequence\n",
      "0.0\n",
      "AC278623\n",
      "Homo sapiens chromosome 1 clone VMRC53-156D10, complete sequence\n",
      "0.0\n",
      "AC278619\n",
      "Homo sapiens chromosome 1 clone VMRC62-388P04, complete sequence\n",
      "0.0\n",
      "AC278445\n",
      "Homo sapiens chromosome 1 clone VMRC59-343K02, complete sequence\n",
      "0.0\n",
      "AC278334\n",
      "Homo sapiens chromosome 1 clone VMRC62-166D15, complete sequence\n",
      "0.0\n",
      "NG_008163\n",
      "Homo sapiens notch receptor 2 (NOTCH2), RefSeqGene on chromosome 1\n",
      "0.0\n",
      "AC245008\n",
      "Homo sapiens BAC clone CH17-77K15 from chromosome 1, complete sequence\n",
      "0.0\n",
      "AL512503\n",
      "Human DNA sequence from clone RP11-323K8 on chromosome 1, complete sequence\n",
      "0.0\n",
      "AC278816\n",
      "Homo sapiens chromosome 1 clone VMRC64-514A21, complete sequence\n",
      "0.0\n",
      "AC278785\n",
      "Homo sapiens chromosome 1 clone VMRC66-236N07, complete sequence\n",
      "0.0\n"
     ]
    }
   ],
   "source": [
    "for a in resultado2.alignments[0:10]:\n",
    "    print(a.accession)\n",
    "    print(a.hit_def)\n",
    "    for b in a.hsps:\n",
    "        print(b.expect)"
   ]
  },
  {
   "cell_type": "markdown",
   "metadata": {},
   "source": [
    "### DSTYK"
   ]
  },
  {
   "cell_type": "code",
   "execution_count": 24,
   "metadata": {},
   "outputs": [],
   "source": [
    "from Bio.Blast import NCBIXML \n",
    "from Bio.Blast import NCBIWWW \n",
    "from Bio import SeqIO\n",
    "\n",
    "record3 = SeqIO.read(open(\"rs12048743_sequence.fa\"), format=\"fasta\")"
   ]
  },
  {
   "cell_type": "code",
   "execution_count": 25,
   "metadata": {},
   "outputs": [],
   "source": [
    "result_handle3 = NCBIWWW.qblast(\"blastn\", \"nt\", record3.format(\"fasta\"))"
   ]
  },
  {
   "cell_type": "code",
   "execution_count": 26,
   "metadata": {},
   "outputs": [],
   "source": [
    "save_file3 = open(\"blast_variante_DSTYK.xml\", \"w\")\n",
    "save_file3.write(result_handle3.read()) \n",
    "save_file3.close()\n",
    "result_handle3.close()"
   ]
  },
  {
   "cell_type": "code",
   "execution_count": 27,
   "metadata": {},
   "outputs": [],
   "source": [
    "result_handle3 = open(\"blast_variante_DSTYK.xml\")"
   ]
  },
  {
   "cell_type": "code",
   "execution_count": 28,
   "metadata": {},
   "outputs": [
    {
     "name": "stdout",
     "output_type": "stream",
     "text": [
      "*** Parâmetros Globais da Pesquisa ***\n",
      "Base de Dados usada:  nt\n",
      "Matriz de Substituição:  \n",
      "Parâmetros de Espaçamento:  (5, 2)\n"
     ]
    }
   ],
   "source": [
    "blast_records3 = NCBIXML.parse(result_handle3)\n",
    "for blast_record in blast_records3:\n",
    "    print(\"*** Parâmetros Globais da Pesquisa ***\")\n",
    "    print(\"Base de Dados usada: \" , blast_record.database)\n",
    "    print(\"Matriz de Substituição: \", blast_record.matrix)\n",
    "    print(\"Parâmetros de Espaçamento: \", blast_record.gap_penalties)"
   ]
  },
  {
   "cell_type": "code",
   "execution_count": 29,
   "metadata": {},
   "outputs": [
    {
     "name": "stdout",
     "output_type": "stream",
     "text": [
      "Existem 49 alinhamentos no registo.\n"
     ]
    }
   ],
   "source": [
    "result_handle3 = open(\"blast_variante_DSTYK.xml\")\n",
    "resultado3 = NCBIXML.read(result_handle3)\n",
    "print(f\"Existem {len(resultado3.alignments)} alinhamentos no registo.\")"
   ]
  },
  {
   "cell_type": "code",
   "execution_count": 30,
   "metadata": {},
   "outputs": [
    {
     "name": "stdout",
     "output_type": "stream",
     "text": [
      "gi|1675076430|ref|NM_199462.3| Homo sapiens dual serine/threonine and tyrosine protein kinase (DSTYK), transcript variant 2, mRNA\n",
      "           Length = 7875\n",
      "\n"
     ]
    }
   ],
   "source": [
    "print(resultado3.alignments[0])"
   ]
  },
  {
   "cell_type": "code",
   "execution_count": 36,
   "metadata": {},
   "outputs": [
    {
     "name": "stdout",
     "output_type": "stream",
     "text": [
      "NM_199462\n",
      "Homo sapiens dual serine/threonine and tyrosine protein kinase (DSTYK), transcript variant 2, mRNA\n",
      "0.0\n",
      "7.13482e-45\n",
      "3.0338e-43\n",
      "0.0157433\n",
      "NM_015375\n",
      "Homo sapiens dual serine/threonine and tyrosine protein kinase (DSTYK), transcript variant 1, mRNA\n",
      "0.0\n",
      "7.13482e-45\n",
      "3.0338e-43\n",
      "0.0157433\n",
      "XM_047417152\n",
      "PREDICTED: Homo sapiens dual serine/threonine and tyrosine protein kinase (DSTYK), transcript variant X6, mRNA\n",
      "0.0\n",
      "7.13482e-45\n",
      "3.0338e-43\n",
      "0.0157433\n",
      "XM_047417151\n",
      "PREDICTED: Homo sapiens dual serine/threonine and tyrosine protein kinase (DSTYK), transcript variant X5, mRNA\n",
      "0.0\n",
      "7.13482e-45\n",
      "3.0338e-43\n",
      "0.0157433\n",
      "XM_011509394\n",
      "PREDICTED: Homo sapiens dual serine/threonine and tyrosine protein kinase (DSTYK), transcript variant X4, mRNA\n",
      "0.0\n",
      "7.13482e-45\n",
      "3.0338e-43\n",
      "0.0157433\n"
     ]
    }
   ],
   "source": [
    "for a in resultado3.alignments[0:5]:\n",
    "    print(a.accession)\n",
    "    print(a.hit_def)\n",
    "    for b in a.hsps:\n",
    "        print(b.expect)"
   ]
  },
  {
   "cell_type": "markdown",
   "metadata": {},
   "source": [
    "## Ferramentas de análise das propriedades da proteína"
   ]
  },
  {
   "cell_type": "markdown",
   "metadata": {},
   "source": [
    "### PROTEIN NEUROG3"
   ]
  },
  {
   "cell_type": "code",
   "execution_count": 37,
   "metadata": {},
   "outputs": [
    {
     "name": "stdout",
     "output_type": "stream",
     "text": [
      "NGN3_HUMAN \n",
      "\n",
      "Q9Y4Z2, Q5VVI0, Q6DJX6, Q9BY24 \n",
      "\n",
      "['Activator', 'Developmental protein', 'Differentiation', 'Disease variant', 'DNA-binding', 'Neurogenesis', 'Nucleus', 'Reference proteome', 'Transcription', 'Transcription regulation'] \n",
      "\n",
      "Homo sapiens (Human). \n",
      "\n",
      "214 aa \n",
      "\n",
      "MTPQPSGAPTVQVTRETERSFPRASEDEVTCPTSAPPSPTRTRGNCAEAEEGGCRGAPRKLRARRGGRSRPKSELALSKQRRSRRKKANDRERNRMHNLNSALDALRGVLPTFPDDAKLTKIETLRFAHNYIWALTQTLRIADHSLYALEPPAPHCGELGSPGGSPGDWGSLYSPVSQAGSLSPAASLEERPGLLGATFSACLSPGSLAFSDFL\n"
     ]
    }
   ],
   "source": [
    "import Bio.SwissProt as sp\n",
    "\n",
    "with open(\"Q9Y4Z2.txt\") as handle:\n",
    "    record = sp.read(handle)\n",
    "    print(record.entry_name, \"\\n\")\n",
    "    print(\", \".join(record.accessions), \"\\n\")\n",
    "    print(record.keywords, \"\\n\")\n",
    "    print(record.organism, \"\\n\")\n",
    "    print(len(record.sequence), \"aa\", \"\\n\")\n",
    "    print(record.sequence)"
   ]
  },
  {
   "cell_type": "markdown",
   "metadata": {},
   "source": [
    "### PROTEIN NOTCH2"
   ]
  },
  {
   "cell_type": "code",
   "execution_count": 38,
   "metadata": {},
   "outputs": [
    {
     "name": "stdout",
     "output_type": "stream",
     "text": [
      "NOTC2_HUMAN \n",
      "\n",
      "Q04721, Q5T3X7, Q99734, Q9H240 \n",
      "\n",
      "['3D-structure', 'Activator', 'ANK repeat', 'Cell membrane', 'Cytoplasm', 'Developmental protein', 'Differentiation', 'Disease variant', 'Disulfide bond', 'EGF-like domain', 'Glycoprotein', 'Membrane', 'Notch signaling pathway', 'Nucleus', 'Phosphoprotein', 'Receptor', 'Reference proteome', 'Repeat', 'Signal', 'Transcription', 'Transcription regulation', 'Transmembrane', 'Transmembrane helix', 'Ubl conjugation'] \n",
      "\n",
      "Homo sapiens (Human). \n",
      "\n",
      "2471 aa \n",
      "\n",
      "MPALRPALLWALLALWLCCAAPAHALQCRDGYEPCVNEGMCVTYHNGTGYCKCPEGFLGEYCQHRDPCEKNRCQNGGTCVAQAMLGKATCRCASGFTGEDCQYSTSHPCFVSRPCLNGGTCHMLSRDTYECTCQVGFTGKECQWTDACLSHPCANGSTCTTVANQFSCKCLTGFTGQKCETDVNECDIPGHCQHGGTCLNLPGSYQCQCPQGFTGQYCDSLYVPCAPSPCVNGGTCRQTGDFTFECNCLPGFEGSTCERNIDDCPNHRCQNGGVCVDGVNTYNCRCPPQWTGQFCTEDVDECLLQPNACQNGGTCANRNGGYGCVCVNGWSGDDCSENIDDCAFASCTPGSTCIDRVASFSCMCPEGKAGLLCHLDDACISNPCHKGALCDTNPLNGQYICTCPQGYKGADCTEDVDECAMANSNPCEHAGKCVNTDGAFHCECLKGYAGPRCEMDINECHSDPCQNDATCLDKIGGFTCLCMPGFKGVHCELEINECQSNPCVNNGQCVDKVNRFQCLCPPGFTGPVCQIDIDDCSSTPCLNGAKCIDHPNGYECQCATGFTGVLCEENIDNCDPDPCHHGQCQDGIDSYTCICNPGYMGAICSDQIDECYSSPCLNDGRCIDLVNGYQCNCQPGTSGVNCEINFDDCASNPCIHGICMDGINRYSCVCSPGFTGQRCNIDIDECASNPCRKGATCINGVNGFRCICPEGPHHPSCYSQVNECLSNPCIHGNCTGGLSGYKCLCDAGWVGINCEVDKNECLSNPCQNGGTCDNLVNGYRCTCKKGFKGYNCQVNIDECASNPCLNQGTCFDDISGYTCHCVLPYTGKNCQTVLAPCSPNPCENAAVCKESPNFESYTCLCAPGWQGQRCTIDIDECISKPCMNHGLCHNTQGSYMCECPPGFSGMDCEEDIDDCLANPCQNGGSCMDGVNTFSCLCLPGFTGDKCQTDMNECLSEPCKNGGTCSDYVNSYTCKCQAGFDGVHCENNINECTESSCFNGGTCVDGINSFSCLCPVGFTGSFCLHEINECSSHPCLNEGTCVDGLGTYRCSCPLGYTGKNCQTLVNLCSRSPCKNKGTCVQKKAESQCLCPSGWAGAYCDVPNVSCDIAASRRGVLVEHLCQHSGVCINAGNTHYCQCPLGYTGSYCEEQLDECASNPCQHGATCSDFIGGYRCECVPGYQGVNCEYEVDECQNQPCQNGGTCIDLVNHFKCSCPPGTRGLLCEENIDDCARGPHCLNGGQCMDRIGGYSCRCLPGFAGERCEGDINECLSNPCSSEGSLDCIQLTNDYLCVCRSAFTGRHCETFVDVCPQMPCLNGGTCAVASNMPDGFICRCPPGFSGARCQSSCGQVKCRKGEQCVHTASGPRCFCPSPRDCESGCASSPCQHGGSCHPQRQPPYYSCQCAPPFSGSRCELYTAPPSTPPATCLSQYCADKARDGVCDEACNSHACQWDGGDCSLTMENPWANCSSPLPCWDYINNQCDELCNTVECLFDNFECQGNSKTCKYDKYCADHFKDNHCDQGCNSEECGWDGLDCAADQPENLAEGTLVIVVLMPPEQLLQDARSFLRALGTLLHTNLRIKRDSQGELMVYPYYGEKSAAMKKQRMTRRSLPGEQEQEVAGSKVFLEIDNRQCVQDSDHCFKNTDAAAALLASHAIQGTLSYPLVSVVSESLTPERTQLLYLLAVAVVIILFIILLGVIMAKRKRKHGSLWLPEGFTLRRDASNHKRREPVGQDAVGLKNLSVQVSEANLIGTGTSEHWVDDEGPQPKKVKAEDEALLSEEDDPIDRRPWTQQHLEAADIRRTPSLALTPPQAEQEVDVLDVNVRGPDGCTPLMLASLRGGSSDLSDEDEDAEDSSANIITDLVYQGASLQAQTDRTGEMALHLAARYSRADAAKRLLDAGADANAQDNMGRCPLHAAVAADAQGVFQILIRNRVTDLDARMNDGTTPLILAARLAVEGMVAELINCQADVNAVDDHGKSALHWAAAVNNVEATLLLLKNGANRDMQDNKEETPLFLAAREGSYEAAKILLDHFANRDITDHMDRLPRDVARDRMHHDIVRLLDEYNVTPSPPGTVLTSALSPVICGPNRSFLSLKHTPMGKKSRRPSAKSTMPTSLPNLAKEAKDAKGSRRKKSLSEKVQLSESSVTLSPVDSLESPHTYVSDTTSSPMITSPGILQASPNPMLATAAPPAPVHAQHALSFSNLHEMQPLAHGASTVLPSVSQLLSHHHIVSPGSGSAGSLSRLHPVPVPADWMNRMEVNETQYNEMFGMVLAPAEGTHPGIAPQSRPPEGKHITTPREPLPPIVTFQLIPKGSIAQPAGAPQPQSTCPPAVAGPLPTMYQIPEMARLPSVAFPTAMMPQQDGQVAQTILPAYHPFPASVGKYPTPPSQHSYASSNAAERTPSHSGHLQGEHPYLTPSPESPDQWSSSSPHSASDWSDVTTSPTPGGAGGGQRGPGTHMSEPPHNNMQVYA\n"
     ]
    }
   ],
   "source": [
    "with open(\"Q04721.txt\") as handle:\n",
    "    record = sp.read(handle)\n",
    "    print(record.entry_name, \"\\n\")\n",
    "    print(\", \".join(record.accessions), \"\\n\")\n",
    "    print(record.keywords, \"\\n\")\n",
    "    print(record.organism, \"\\n\")\n",
    "    print(len(record.sequence), \"aa\", \"\\n\")\n",
    "    print(record.sequence)"
   ]
  },
  {
   "cell_type": "markdown",
   "metadata": {},
   "source": [
    "### PROTEIN DSTYK"
   ]
  },
  {
   "cell_type": "code",
   "execution_count": null,
   "metadata": {},
   "outputs": [],
   "source": [
    "with open(\"Q6XUX3.txt\") as handle:\n",
    "    record = sp.parse(handle)\n",
    "    print(str(record))\n",
    "    #print(\", \".join(record.accessions), \"\\n\")\n",
    "    #print(record.keywords, \"\\n\")\n",
    "    #print(record.organism, \"\\n\")\n",
    "    #print(len(record.sequence), \"aa\", \"\\n\")\n",
    "    #print(record.sequence)"
   ]
  },
  {
   "cell_type": "code",
   "execution_count": null,
   "metadata": {},
   "outputs": [],
   "source": [
    "with open(\"Q6XUX3.txt\") as handle:\n",
    "    records = sp.parse(handle)\n",
    "    for record in records:\n",
    "        print(record.entry_name)\n",
    "        print(\",\".join(record.accessions))\n",
    "        print(record.keywords)\n",
    "        print(repr(record.organism))\n",
    "        print(record.sequence[:20] + \"...\")"
   ]
  },
  {
   "cell_type": "markdown",
   "metadata": {},
   "source": [
    "## Alinhamento Múltiplo e Filogenia"
   ]
  },
  {
   "cell_type": "markdown",
   "metadata": {},
   "source": [
    "### NOTCH2"
   ]
  },
  {
   "cell_type": "code",
   "execution_count": 39,
   "metadata": {},
   "outputs": [],
   "source": [
    "from Bio.Blast import NCBIXML \n",
    "from Bio.Blast import NCBIWWW \n",
    "from Bio import SeqIO"
   ]
  },
  {
   "cell_type": "code",
   "execution_count": 40,
   "metadata": {},
   "outputs": [
    {
     "data": {
      "text/plain": [
       "<Bio.SeqIO.FastaIO.FastaIterator at 0x29963346f10>"
      ]
     },
     "execution_count": 40,
     "metadata": {},
     "output_type": "execute_result"
    }
   ],
   "source": [
    "record1 = SeqIO.parse(open(\"blast_seqs_NOTCH2 (1).txt\"), format=\"fasta\")\n",
    "record1"
   ]
  },
  {
   "cell_type": "code",
   "execution_count": 41,
   "metadata": {},
   "outputs": [],
   "source": [
    "from Bio.SeqRecord import SeqRecord\n",
    "from Bio.Align import MultipleSeqAlignment\n",
    "from Bio.Seq import Seq\n",
    "from Bio import AlignIO"
   ]
  },
  {
   "cell_type": "code",
   "execution_count": 42,
   "metadata": {},
   "outputs": [
    {
     "name": "stdout",
     "output_type": "stream",
     "text": [
      "Alignment with 10 rows and 2471 columns\n",
      "MPALRPALLWALLALWLCCAAPAHALQCRDGYEPCVNEGMCVTY...VYA NP_077719.2\n",
      "MPALRPALPWALLALWLCCAAPARALQCRDGYEPCVNEGMCVTY...VYA XP_009243797.2\n",
      "MPALRPALHWALLALWLCCAAPARALQCRDGYEPCVNEGMCVTY...VYA XP_030680572.1\n",
      "MPALRPALHWALLALWLCCAAPARALQCRDGYEPCVNEGMCVTY...VYA XP_032007484.1\n",
      "MPALRPALLWALLALWLCRAAPARALQCRDGYEPCVNEGMCVTY...VYA NP_001247591.1\n",
      "MPALRPALLWALLALWLCRAAPARALQCRDGYEPCVNEGMCVTY...VYA XP_023078536.1\n",
      "MPALRPALLWALLALWLCRAAPARALQCRDGYEPCVNEGMCVTY...VYA EHH50225.1\n",
      "MPALRPALLWALLALWLCRAAPARALQCRDGYEPCVNEGMCVTY...VYA XP_033054071.1\n",
      "MPALRPALLWALLALWLCRAAPARALQCRDGYEPCVNEGMCVTY...VYA XP_025230885.1\n",
      "MPALRPALLWALLALWLCRAAPARALQCRDGYEPCVNEGMCVTY...VYA XP_010358948.2\n",
      "2471\n"
     ]
    }
   ],
   "source": [
    "seqs = []\n",
    "for seq in record1:\n",
    "    seqs.append(seq)\n",
    "\n",
    "alin1 = MultipleSeqAlignment(seqs)\n",
    "print(alin1)\n",
    "print(alin1.get_alignment_length())"
   ]
  },
  {
   "cell_type": "code",
   "execution_count": 43,
   "metadata": {},
   "outputs": [],
   "source": [
    "ficheirofasta1 = AlignIO.write(alin1, \"resultados_alin_NOTCH2\", \"fasta\")"
   ]
  },
  {
   "cell_type": "code",
   "execution_count": 44,
   "metadata": {},
   "outputs": [],
   "source": [
    "record_seq = AlignIO.parse(\"resultados_alin_NOTCH2\", \"fasta\")\n",
    "\n",
    "converter_stock = AlignIO.parse(\"resultados_alin_NOTCH2\", \"fasta\")\n",
    "ficheirostock = AlignIO.write([c for c in converter_stock], \"resultados_align_NOTCH2_stock.sth\", \"stockholm\")"
   ]
  },
  {
   "cell_type": "code",
   "execution_count": 45,
   "metadata": {},
   "outputs": [
    {
     "name": "stdout",
     "output_type": "stream",
     "text": [
      "Alignment with 10 rows and 2471 columns\n",
      "MPALRPALLWALLALWLCCAAPAHALQCRDGYEPCVNEGMCVTY...VYA NP_077719.2\n",
      "MPALRPALPWALLALWLCCAAPARALQCRDGYEPCVNEGMCVTY...VYA XP_009243797.2\n",
      "MPALRPALHWALLALWLCCAAPARALQCRDGYEPCVNEGMCVTY...VYA XP_030680572.1\n",
      "MPALRPALHWALLALWLCCAAPARALQCRDGYEPCVNEGMCVTY...VYA XP_032007484.1\n",
      "MPALRPALLWALLALWLCRAAPARALQCRDGYEPCVNEGMCVTY...VYA NP_001247591.1\n",
      "MPALRPALLWALLALWLCRAAPARALQCRDGYEPCVNEGMCVTY...VYA XP_023078536.1\n",
      "MPALRPALLWALLALWLCRAAPARALQCRDGYEPCVNEGMCVTY...VYA EHH50225.1\n",
      "MPALRPALLWALLALWLCRAAPARALQCRDGYEPCVNEGMCVTY...VYA XP_033054071.1\n",
      "MPALRPALLWALLALWLCRAAPARALQCRDGYEPCVNEGMCVTY...VYA XP_025230885.1\n",
      "MPALRPALLWALLALWLCRAAPARALQCRDGYEPCVNEGMCVTY...VYA XP_010358948.2\n"
     ]
    }
   ],
   "source": [
    "alignment1 = AlignIO.read(\"resultados_align_NOTCH2_stock.sth\", \"stockholm\")\n",
    "print(alignment1)"
   ]
  },
  {
   "cell_type": "code",
   "execution_count": 46,
   "metadata": {},
   "outputs": [],
   "source": [
    "from Bio.Phylo.TreeConstruction import DistanceCalculator"
   ]
  },
  {
   "cell_type": "code",
   "execution_count": 47,
   "metadata": {},
   "outputs": [
    {
     "name": "stdout",
     "output_type": "stream",
     "text": [
      "NP_077719.2\t0\n",
      "XP_009243797.2\t0.005280810675800995\t0\n",
      "XP_030680572.1\t0.005921381179995744\t0.007348220018548957\t0\n",
      "XP_032007484.1\t0.006707099536211181\t0.008134141990724264\t0.002354284083612712\t0\n",
      "NP_001247591.1\t0.008703716915174464\t0.011486052650353185\t0.011343368766497774\t0.011700078476136078\t0\n",
      "XP_023078536.1\t0.008420151277294119\t0.011203082631654038\t0.01127202682457018\t0.012058508740635077\t0.001997574373974409\t0\n",
      "EHH50225.1\t0.008988443429875925\t0.011770580681980336\t0.011627906976744207\t0.01198459123983453\t0.00028534741047225864\t0.002282779283777958\t0\n",
      "XP_033054071.1\t0.008848294562580294\t0.011631225916940213\t0.011700078476136078\t0.01248662147698898\t0.002425626025540417\t0.001355787070072778\t0.002710800399486346\t0\n",
      "XP_025230885.1\t0.009275114155251174\t0.01170091324200917\t0.011985446243846787\t0.012842465753424626\t0.001926232432046815\t0.0025684931506849695\t0.0022114424311598935\t0.0029965753424657793\t0\n",
      "XP_010358948.2\t0.010847070577321039\t0.013207681873349086\t0.013768994792038192\t0.014555833036032806\t0.004494542341442531\t0.003425146282289182\t0.004779569125410221\t0.002069359212216404\t0.005065639269406397\t0\n",
      "\tNP_077719.2\tXP_009243797.2\tXP_030680572.1\tXP_032007484.1\tNP_001247591.1\tXP_023078536.1\tEHH50225.1\tXP_033054071.1\tXP_025230885.1\tXP_010358948.2\n"
     ]
    }
   ],
   "source": [
    "calculator = DistanceCalculator('blosum62')\n",
    "dm1 = calculator.get_distance(alignment1)\n",
    "print(dm1)"
   ]
  },
  {
   "cell_type": "code",
   "execution_count": 48,
   "metadata": {},
   "outputs": [],
   "source": [
    "from Bio.Phylo.TreeConstruction import DistanceTreeConstructor"
   ]
  },
  {
   "cell_type": "code",
   "execution_count": 49,
   "metadata": {},
   "outputs": [],
   "source": [
    "constructor = DistanceTreeConstructor()\n",
    "upgmatree_NOTCH2 = constructor.upgma(dm1)"
   ]
  },
  {
   "cell_type": "code",
   "execution_count": 50,
   "metadata": {},
   "outputs": [
    {
     "name": "stdout",
     "output_type": "stream",
     "text": [
      "Tree(rooted=True)\n",
      "    Clade(branch_length=0, name='Inner9')\n",
      "        Clade(name='Inner6')\n",
      "            Clade(name='XP_010358948.2')\n",
      "            Clade(name='Inner5')\n",
      "                Clade(name='Inner2')\n",
      "                    Clade(name='XP_033054071.1')\n",
      "                    Clade(name='XP_023078536.1')\n",
      "                Clade(name='Inner3')\n",
      "                    Clade(name='XP_025230885.1')\n",
      "                    Clade(name='Inner1')\n",
      "                        Clade(name='EHH50225.1')\n",
      "                        Clade(name='NP_001247591.1')\n",
      "        Clade(name='Inner8')\n",
      "            Clade(name='Inner4')\n",
      "                Clade(name='XP_032007484.1')\n",
      "                Clade(name='XP_030680572.1')\n",
      "            Clade(name='Inner7')\n",
      "                Clade(name='XP_009243797.2')\n",
      "                Clade(name='NP_077719.2')\n"
     ]
    }
   ],
   "source": [
    "print(upgmatree_NOTCH2)"
   ]
  },
  {
   "cell_type": "code",
   "execution_count": 51,
   "metadata": {},
   "outputs": [
    {
     "name": "stdout",
     "output_type": "stream",
     "text": [
      "                                      ________________ XP_010358948.2\n",
      "                                     |\n",
      "  ___________________________________|             _____ XP_033054071.1\n",
      " |                                   |        ____|\n",
      " |                                   |       |    |_____ XP_023078536.1\n",
      " |                                   |_______|\n",
      " |                                           |  ________ XP_025230885.1\n",
      " |                                           |_|\n",
      "_|                                             |       , EHH50225.1\n",
      " |                                             |_______|\n",
      " |                                                     | NP_001247591.1\n",
      " |\n",
      " |                                                  __________ XP_032007484.1\n",
      " |                              ___________________|\n",
      " |                             |                   |__________ XP_030680572.1\n",
      " |_____________________________|\n",
      "                               |       _______________________ XP_009243797.2\n",
      "                               |______|\n",
      "                                      |_______________________ NP_077719.2\n",
      "\n"
     ]
    }
   ],
   "source": [
    "from Bio import Phylo\n",
    "Phylo.draw_ascii(upgmatree_NOTCH2)"
   ]
  },
  {
   "cell_type": "code",
   "execution_count": 52,
   "metadata": {},
   "outputs": [
    {
     "name": "stdout",
     "output_type": "stream",
     "text": [
      "Tree(rooted=False)\n",
      "    Clade(branch_length=0, name='Inner8')\n",
      "        Clade(name='Inner7')\n",
      "            Clade(name='Inner6')\n",
      "                Clade(name='Inner4')\n",
      "                    Clade(name='XP_010358948.2')\n",
      "                    Clade(name='XP_033054071.1')\n",
      "                Clade(name='XP_023078536.1')\n",
      "            Clade(name='Inner3')\n",
      "                Clade(name='NP_077719.2')\n",
      "                Clade(name='Inner2')\n",
      "                    Clade(name='Inner1')\n",
      "                        Clade(name='XP_032007484.1')\n",
      "                        Clade(name='XP_030680572.1')\n",
      "                    Clade(name='XP_009243797.2')\n",
      "        Clade(name='Inner5')\n",
      "            Clade(name='EHH50225.1')\n",
      "            Clade(name='NP_001247591.1')\n",
      "        Clade(name='XP_025230885.1')\n"
     ]
    }
   ],
   "source": [
    "njtree_NOTCH2 = constructor.nj(dm1)\n",
    "print(njtree_NOTCH2)"
   ]
  },
  {
   "cell_type": "code",
   "execution_count": 53,
   "metadata": {},
   "outputs": [
    {
     "name": "stdout",
     "output_type": "stream",
     "text": [
      "           __________ XP_010358948.2\n",
      "      ____|\n",
      "    _|    | XP_033054071.1\n",
      "   | |\n",
      "   | |__ XP_023078536.1\n",
      "  _|\n",
      " | |                                _______ NP_077719.2\n",
      " | |                               |\n",
      " | |_______________________________|                  ________ XP_032007484.1\n",
      " |                                 |   ______________|\n",
      " |                                 |__|              |____ XP_030680572.1\n",
      "_|                                    |\n",
      " |                                    |__________________ XP_009243797.2\n",
      " |\n",
      " |   _ EHH50225.1\n",
      " |__|\n",
      " |  | NP_001247591.1\n",
      " |\n",
      " |_____ XP_025230885.1\n",
      "\n"
     ]
    }
   ],
   "source": [
    "Phylo.draw_ascii(njtree_NOTCH2)"
   ]
  },
  {
   "cell_type": "markdown",
   "metadata": {},
   "source": [
    "### DSTYK"
   ]
  },
  {
   "cell_type": "code",
   "execution_count": 54,
   "metadata": {},
   "outputs": [],
   "source": [
    "from Bio.Blast import NCBIXML \n",
    "from Bio.Blast import NCBIWWW \n",
    "from Bio import SeqIO"
   ]
  },
  {
   "cell_type": "code",
   "execution_count": 55,
   "metadata": {},
   "outputs": [
    {
     "data": {
      "text/plain": [
       "<Bio.SeqIO.FastaIO.FastaIterator at 0x29963619cd0>"
      ]
     },
     "execution_count": 55,
     "metadata": {},
     "output_type": "execute_result"
    }
   ],
   "source": [
    "record2 = SeqIO.parse(open(\"blast_seqs_DSTYK.txt\"), format=\"fasta\")\n",
    "record2"
   ]
  },
  {
   "cell_type": "code",
   "execution_count": 56,
   "metadata": {},
   "outputs": [],
   "source": [
    "from Bio.SeqRecord import SeqRecord\n",
    "from Bio.Align import MultipleSeqAlignment\n",
    "from Bio.Seq import Seq\n",
    "from Bio import AlignIO"
   ]
  },
  {
   "cell_type": "code",
   "execution_count": 57,
   "metadata": {},
   "outputs": [
    {
     "name": "stdout",
     "output_type": "stream",
     "text": [
      "Alignment with 10 rows and 929 columns\n",
      "MEGDGVPWGSEPVSGPGPGGGGMIRELCRGFGRYRRYLGRLRQN...DST NP_056190.1\n",
      "MEGDGVPWGSEPVSGPGPGGGGMIRELCRGFGRYRRYLGRLRQN...DST XP_004028290.1\n",
      "MEGDGVPWGSEPVSGPGPGGGGTIRELCRGFGRYRRYLGRLRQN...DST XP_003823003.1\n",
      "MEGDGVPWGSEPVSGPGPGGGGMIRELCRGFGRYRRYLGRLRQN...DST AIC62720.1\n",
      "MEGDGVPWGGEPVSGPGPGGGGMIRELCRGFGRYRRYLGRLRQN...DST XP_031992657.1\n",
      "MEGDGVPWGSEPVSGPGRGGGGMIRELCRGFGRYRRYLGRLRQN...DST XP_030668989.1\n",
      "MEGDGVPWGSEPVSGPGPGGGGMIRELCRGFGRYRRYLGRLRQN...DST XP_012314775.1\n",
      "MEGDGVPWGSEPVSGPGPGGGGMIRELCRGFGRYRRYLGRLRQN...DST XP_017380922.1\n",
      "MEGDGVPWRSEPVSGPGPGGGGMIRELCRGFGRYRRYLGRLRQN...DST XP_003938375.1\n",
      "MEGNEVPWGSEPVSGPGPGPGGMIRELCRGFGRYRRYLGRLRQN...DST XP_023042634.1\n",
      "929\n"
     ]
    }
   ],
   "source": [
    "seqs = []\n",
    "for seq in record2:\n",
    "    seqs.append(seq)\n",
    "\n",
    "alin2 = MultipleSeqAlignment(seqs)\n",
    "print(alin2)\n",
    "print(alin2.get_alignment_length())"
   ]
  },
  {
   "cell_type": "code",
   "execution_count": 58,
   "metadata": {},
   "outputs": [],
   "source": [
    "ficheirofasta2 = AlignIO.write(alin2, \"resultados_alin_DSTYK\", \"fasta\")"
   ]
  },
  {
   "cell_type": "code",
   "execution_count": 59,
   "metadata": {},
   "outputs": [],
   "source": [
    "record_seq = AlignIO.parse(\"resultados_alin_DSTYK\", \"fasta\")\n",
    "\n",
    "converter_stock = AlignIO.parse(\"resultados_alin_DSTYK\", \"fasta\")\n",
    "ficheirostock = AlignIO.write([c for c in converter_stock], \"resultados_align_DSTYK_stock.sth\", \"stockholm\")"
   ]
  },
  {
   "cell_type": "code",
   "execution_count": 60,
   "metadata": {},
   "outputs": [
    {
     "name": "stdout",
     "output_type": "stream",
     "text": [
      "Alignment with 10 rows and 929 columns\n",
      "MEGDGVPWGSEPVSGPGPGGGGMIRELCRGFGRYRRYLGRLRQN...DST NP_056190.1\n",
      "MEGDGVPWGSEPVSGPGPGGGGMIRELCRGFGRYRRYLGRLRQN...DST XP_004028290.1\n",
      "MEGDGVPWGSEPVSGPGPGGGGTIRELCRGFGRYRRYLGRLRQN...DST XP_003823003.1\n",
      "MEGDGVPWGSEPVSGPGPGGGGMIRELCRGFGRYRRYLGRLRQN...DST AIC62720.1\n",
      "MEGDGVPWGGEPVSGPGPGGGGMIRELCRGFGRYRRYLGRLRQN...DST XP_031992657.1\n",
      "MEGDGVPWGSEPVSGPGRGGGGMIRELCRGFGRYRRYLGRLRQN...DST XP_030668989.1\n",
      "MEGDGVPWGSEPVSGPGPGGGGMIRELCRGFGRYRRYLGRLRQN...DST XP_012314775.1\n",
      "MEGDGVPWGSEPVSGPGPGGGGMIRELCRGFGRYRRYLGRLRQN...DST XP_017380922.1\n",
      "MEGDGVPWRSEPVSGPGPGGGGMIRELCRGFGRYRRYLGRLRQN...DST XP_003938375.1\n",
      "MEGNEVPWGSEPVSGPGPGPGGMIRELCRGFGRYRRYLGRLRQN...DST XP_023042634.1\n"
     ]
    }
   ],
   "source": [
    "alignment2 = AlignIO.read(\"resultados_align_DSTYK_stock.sth\", \"stockholm\")\n",
    "print(alignment2)"
   ]
  },
  {
   "cell_type": "code",
   "execution_count": 61,
   "metadata": {},
   "outputs": [],
   "source": [
    "from Bio.Phylo.TreeConstruction import DistanceCalculator"
   ]
  },
  {
   "cell_type": "code",
   "execution_count": 62,
   "metadata": {},
   "outputs": [
    {
     "name": "stdout",
     "output_type": "stream",
     "text": [
      "NP_056190.1\t0\n",
      "XP_004028290.1\t0.004512820512820537\t0\n",
      "XP_003823003.1\t0.005333333333333301\t0.002874153151303682\t0\n",
      "AIC62720.1\t0.005948717948717985\t0.0055430096489427205\t0.006364196263600852\t0\n",
      "XP_031992657.1\t0.009219422249538978\t0.007580413849620937\t0.008399918049579957\t0.011063306699446884\t0\n",
      "XP_030668989.1\t0.009432027885995509\t0.0077916752101702125\t0.00861185154808286\t0.011277424646298995\t0.003073140749846326\t0\n",
      "XP_012314775.1\t0.015993438589296693\t0.014353085913471397\t0.015173262251384045\t0.01783883534960018\t0.01167793484941615\t0.011892556899733453\t0\n",
      "XP_017380922.1\t0.01680672268907568\t0.01516704242672684\t0.01598688255790126\t0.0186513629842181\t0.01208768694939566\t0.012707522033203578\t0.0034843205574912606\t0\n",
      "XP_003938375.1\t0.018446402951424523\t0.01680672268907568\t0.017626562820250102\t0.020291043246566942\t0.0137266953493137\t0.01434720229555242\t0.005124000819840102\t0.0030744004919041057\t0\n",
      "XP_023042634.1\t0.023379819524200207\t0.021739130434782594\t0.0225594749794914\t0.02522559474979491\t0.019258348699037087\t0.019479188025425476\t0.024810334221857744\t0.02316048370567736\t0.0248001639680262\t0\n",
      "\tNP_056190.1\tXP_004028290.1\tXP_003823003.1\tAIC62720.1\tXP_031992657.1\tXP_030668989.1\tXP_012314775.1\tXP_017380922.1\tXP_003938375.1\tXP_023042634.1\n"
     ]
    }
   ],
   "source": [
    "calculator = DistanceCalculator('blosum62')\n",
    "dm2 = calculator.get_distance(alignment2)\n",
    "print(dm2)"
   ]
  },
  {
   "cell_type": "code",
   "execution_count": 63,
   "metadata": {},
   "outputs": [],
   "source": [
    "from Bio.Phylo.TreeConstruction import DistanceTreeConstructor"
   ]
  },
  {
   "cell_type": "code",
   "execution_count": 64,
   "metadata": {},
   "outputs": [],
   "source": [
    "constructor = DistanceTreeConstructor()\n",
    "upgmatree_DSTYK = constructor.upgma(dm2)"
   ]
  },
  {
   "cell_type": "code",
   "execution_count": 65,
   "metadata": {},
   "outputs": [
    {
     "name": "stdout",
     "output_type": "stream",
     "text": [
      "Tree(rooted=True)\n",
      "    Clade(branch_length=0, name='Inner9')\n",
      "        Clade(name='XP_023042634.1')\n",
      "        Clade(name='Inner8')\n",
      "            Clade(name='Inner4')\n",
      "                Clade(name='Inner3')\n",
      "                    Clade(name='XP_003938375.1')\n",
      "                    Clade(name='XP_017380922.1')\n",
      "                Clade(name='XP_012314775.1')\n",
      "            Clade(name='Inner7')\n",
      "                Clade(name='Inner2')\n",
      "                    Clade(name='XP_030668989.1')\n",
      "                    Clade(name='XP_031992657.1')\n",
      "                Clade(name='Inner6')\n",
      "                    Clade(name='AIC62720.1')\n",
      "                    Clade(name='Inner5')\n",
      "                        Clade(name='Inner1')\n",
      "                            Clade(name='XP_003823003.1')\n",
      "                            Clade(name='XP_004028290.1')\n",
      "                        Clade(name='NP_056190.1')\n"
     ]
    }
   ],
   "source": [
    "print(upgmatree_DSTYK)"
   ]
  },
  {
   "cell_type": "code",
   "execution_count": 66,
   "metadata": {},
   "outputs": [
    {
     "name": "stdout",
     "output_type": "stream",
     "text": [
      "  _____________________________________ XP_023042634.1\n",
      " |\n",
      " |                                                 ____ XP_003938375.1\n",
      "_|                                              __|\n",
      " |                            _________________|  |____ XP_017380922.1\n",
      " |                           |                 |\n",
      " |                           |                 |_______ XP_012314775.1\n",
      " |___________________________|\n",
      "                             |                           _____ XP_030668989.1\n",
      "                             |                __________|\n",
      "                             |               |          |_____ XP_031992657.1\n",
      "                             |_______________|\n",
      "                                             |      __________ AIC62720.1\n",
      "                                             |     |\n",
      "                                             |_____|      ____ XP_003823003.1\n",
      "                                                   |  ___|\n",
      "                                                   |_|   |____ XP_004028290.1\n",
      "                                                     |\n",
      "                                                     |________ NP_056190.1\n",
      "\n"
     ]
    }
   ],
   "source": [
    "from Bio import Phylo\n",
    "Phylo.draw_ascii(upgmatree_DSTYK)"
   ]
  },
  {
   "cell_type": "code",
   "execution_count": 67,
   "metadata": {},
   "outputs": [
    {
     "name": "stdout",
     "output_type": "stream",
     "text": [
      "Tree(rooted=False)\n",
      "    Clade(branch_length=0, name='Inner8')\n",
      "        Clade(name='Inner6')\n",
      "            Clade(name='AIC62720.1')\n",
      "            Clade(name='NP_056190.1')\n",
      "        Clade(name='Inner7')\n",
      "            Clade(name='XP_003823003.1')\n",
      "            Clade(name='XP_004028290.1')\n",
      "        Clade(name='Inner5')\n",
      "            Clade(name='Inner3')\n",
      "                Clade(name='XP_023042634.1')\n",
      "                Clade(name='Inner2')\n",
      "                    Clade(name='Inner1')\n",
      "                        Clade(name='XP_003938375.1')\n",
      "                        Clade(name='XP_017380922.1')\n",
      "                    Clade(name='XP_012314775.1')\n",
      "            Clade(name='Inner4')\n",
      "                Clade(name='XP_030668989.1')\n",
      "                Clade(name='XP_031992657.1')\n"
     ]
    }
   ],
   "source": [
    "njtree_DSTYK = constructor.nj(dm2)\n",
    "print(njtree_DSTYK)"
   ]
  },
  {
   "cell_type": "code",
   "execution_count": 68,
   "metadata": {},
   "outputs": [
    {
     "name": "stdout",
     "output_type": "stream",
     "text": [
      "    __________ AIC62720.1\n",
      "  _|\n",
      " | |______ NP_056190.1\n",
      " |\n",
      " |_____ XP_003823003.1\n",
      " |\n",
      " |__ XP_004028290.1\n",
      "_|\n",
      " |              ______________________________________________ XP_023042634.1\n",
      " |             |\n",
      " |           __|                        ______ XP_003938375.1\n",
      " |          |  |                    ___|\n",
      " |          |  |___________________|   |_ XP_017380922.1\n",
      " |__________|                      |\n",
      "            |                      |____ XP_012314775.1\n",
      "            |\n",
      "            |   ____ XP_030668989.1\n",
      "            |__|\n",
      "               |___ XP_031992657.1\n",
      "\n"
     ]
    }
   ],
   "source": [
    "Phylo.draw_ascii(njtree_DSTYK)"
   ]
  },
  {
   "cell_type": "markdown",
   "metadata": {},
   "source": [
    "### NEUROG3"
   ]
  },
  {
   "cell_type": "code",
   "execution_count": 69,
   "metadata": {},
   "outputs": [],
   "source": [
    "from Bio.Blast import NCBIXML\n",
    "from Bio.Blast import NCBIWWW \n",
    "from Bio import SeqIO"
   ]
  },
  {
   "cell_type": "code",
   "execution_count": 70,
   "metadata": {},
   "outputs": [
    {
     "data": {
      "text/plain": [
       "<Bio.SeqIO.FastaIO.FastaIterator at 0x29963779f40>"
      ]
     },
     "execution_count": 70,
     "metadata": {},
     "output_type": "execute_result"
    }
   ],
   "source": [
    "record3 = SeqIO.parse(open(\"blast_seqs_NEUROG3.txt\"), format=\"fasta\")\n",
    "record3"
   ]
  },
  {
   "cell_type": "code",
   "execution_count": 71,
   "metadata": {},
   "outputs": [],
   "source": [
    "from Bio.SeqRecord import SeqRecord\n",
    "from Bio.Align import MultipleSeqAlignment\n",
    "from Bio.Seq import Seq\n",
    "from Bio import AlignIO"
   ]
  },
  {
   "cell_type": "code",
   "execution_count": 72,
   "metadata": {},
   "outputs": [
    {
     "name": "stdout",
     "output_type": "stream",
     "text": [
      "Alignment with 8 rows and 214 columns\n",
      "MTPQPSGAPTVQVTRETERSFPRASEDEVTCPTSAPPSPTRTRG...DFL NP_066279.2\n",
      "MTPQPSGAPTVQVTRETERSFPRASEDEVTCPTSAPPSPTRTRG...DFL AKI72019.1\n",
      "MTPQPSGAPTVQVTRETERSFPRASEDEVTCPTSAPPSPTRTRG...DFL XP_003312656.3\n",
      "MTPQPSGAPTVQVTRETERSFPRASEDEVTCPTSAPPSPTRTRG...DFL XP_004049566.3\n",
      "MTPQPSGAPTVQVTRETERSFPRASDDEVTCPTSAPPSPTRTRG...DFL XP_002820920.1\n",
      "MTPQPSGAPTVQLTRETEQSFPRASDDEVTCPTSAAPSPTRTRG...DFL XP_031994867.1\n",
      "MTPQPWGAPTVQVTRETEQSFPRASDDEVTCPTSAAPSPTRTRG...DFL XP_030653989.1\n",
      "MAPHPSCAPAVQVTHQTEQPFPSAPEDKVTCVASAPPSPTRVPG...DFL XP_020928083.1\n",
      "214\n"
     ]
    }
   ],
   "source": [
    "seqs = []\n",
    "for seq in record3:\n",
    "    seqs.append(seq)\n",
    "\n",
    "alin3 = MultipleSeqAlignment(seqs)\n",
    "print(alin3)\n",
    "print(alin3.get_alignment_length())"
   ]
  },
  {
   "cell_type": "code",
   "execution_count": 73,
   "metadata": {},
   "outputs": [],
   "source": [
    "ficheirofasta3 = AlignIO.write(alin3, \"resultados_alin_NEUROG3\", \"fasta\")"
   ]
  },
  {
   "cell_type": "code",
   "execution_count": 74,
   "metadata": {},
   "outputs": [],
   "source": [
    "record_seq = AlignIO.parse(\"resultados_alin_NEUROG3\", \"fasta\")\n",
    "\n",
    "converter_stock = AlignIO.parse(\"resultados_alin_NEUROG3\", \"fasta\")\n",
    "ficheirostock = AlignIO.write([c for c in converter_stock], \"resultados_align_NEUROG3_stock.sth\", \"stockholm\")"
   ]
  },
  {
   "cell_type": "code",
   "execution_count": 75,
   "metadata": {},
   "outputs": [
    {
     "name": "stdout",
     "output_type": "stream",
     "text": [
      "Alignment with 8 rows and 214 columns\n",
      "MTPQPSGAPTVQVTRETERSFPRASEDEVTCPTSAPPSPTRTRG...DFL NP_066279.2\n",
      "MTPQPSGAPTVQVTRETERSFPRASEDEVTCPTSAPPSPTRTRG...DFL AKI72019.1\n",
      "MTPQPSGAPTVQVTRETERSFPRASEDEVTCPTSAPPSPTRTRG...DFL XP_003312656.3\n",
      "MTPQPSGAPTVQVTRETERSFPRASEDEVTCPTSAPPSPTRTRG...DFL XP_004049566.3\n",
      "MTPQPSGAPTVQVTRETERSFPRASDDEVTCPTSAPPSPTRTRG...DFL XP_002820920.1\n",
      "MTPQPSGAPTVQLTRETEQSFPRASDDEVTCPTSAAPSPTRTRG...DFL XP_031994867.1\n",
      "MTPQPWGAPTVQVTRETEQSFPRASDDEVTCPTSAAPSPTRTRG...DFL XP_030653989.1\n",
      "MAPHPSCAPAVQVTHQTEQPFPSAPEDKVTCVASAPPSPTRVPG...DFL XP_020928083.1\n"
     ]
    }
   ],
   "source": [
    "alignment3 = AlignIO.read(\"resultados_align_NEUROG3_stock.sth\", \"stockholm\")\n",
    "print(alignment3)"
   ]
  },
  {
   "cell_type": "code",
   "execution_count": 76,
   "metadata": {},
   "outputs": [],
   "source": [
    "from Bio.Phylo.TreeConstruction import DistanceCalculator"
   ]
  },
  {
   "cell_type": "code",
   "execution_count": 77,
   "metadata": {},
   "outputs": [
    {
     "name": "stdout",
     "output_type": "stream",
     "text": [
      "NP_066279.2\t0\n",
      "AKI72019.1\t0.005338078291814985\t0\n",
      "XP_003312656.3\t0.01690391459074736\t0.021371326803205748\t0\n",
      "XP_004049566.3\t0.020462633451957313\t0.024933214603739984\t0.0035714285714285587\t0\n",
      "XP_002820920.1\t0.03113879003558717\t0.0356188780053428\t0.02049910873440286\t0.024064171122994638\t0\n",
      "XP_031994867.1\t0.05427046263345192\t0.058771148708815724\t0.038358608385370196\t0.041926851025869794\t0.0267379679144385\t0\n",
      "XP_030653989.1\t0.06554472984942428\t0.07085916740478304\t0.05225863596102742\t0.055801594331266635\t0.039858281665190454\t0.019486271036315284\t0\n",
      "XP_020928083.1\t0.1777777777777778\t0.1831111111111111\t0.1804444444444444\t0.17955555555555558\t0.1697777777777778\t0.18933333333333335\t0.19574844995571306\t0\n",
      "\tNP_066279.2\tAKI72019.1\tXP_003312656.3\tXP_004049566.3\tXP_002820920.1\tXP_031994867.1\tXP_030653989.1\tXP_020928083.1\n"
     ]
    }
   ],
   "source": [
    "calculator = DistanceCalculator('blosum62')\n",
    "dm3 = calculator.get_distance(alignment3)\n",
    "print(dm3)"
   ]
  },
  {
   "cell_type": "code",
   "execution_count": 78,
   "metadata": {},
   "outputs": [],
   "source": [
    "from Bio.Phylo.TreeConstruction import DistanceTreeConstructor"
   ]
  },
  {
   "cell_type": "code",
   "execution_count": 79,
   "metadata": {},
   "outputs": [],
   "source": [
    "constructor = DistanceTreeConstructor()\n",
    "upgmatree_NEUROG3 = constructor.upgma(dm3)"
   ]
  },
  {
   "cell_type": "code",
   "execution_count": 80,
   "metadata": {},
   "outputs": [
    {
     "name": "stdout",
     "output_type": "stream",
     "text": [
      "Tree(rooted=True)\n",
      "    Clade(branch_length=0, name='Inner7')\n",
      "        Clade(name='XP_020928083.1')\n",
      "        Clade(name='Inner6')\n",
      "            Clade(name='Inner3')\n",
      "                Clade(name='XP_030653989.1')\n",
      "                Clade(name='XP_031994867.1')\n",
      "            Clade(name='Inner5')\n",
      "                Clade(name='XP_002820920.1')\n",
      "                Clade(name='Inner4')\n",
      "                    Clade(name='Inner1')\n",
      "                        Clade(name='XP_004049566.3')\n",
      "                        Clade(name='XP_003312656.3')\n",
      "                    Clade(name='Inner2')\n",
      "                        Clade(name='AKI72019.1')\n",
      "                        Clade(name='NP_066279.2')\n"
     ]
    }
   ],
   "source": [
    "print(upgmatree_NEUROG3)"
   ]
  },
  {
   "cell_type": "code",
   "execution_count": 81,
   "metadata": {},
   "outputs": [
    {
     "name": "stdout",
     "output_type": "stream",
     "text": [
      "  ___________________________________________________ XP_020928083.1\n",
      " |\n",
      "_|                                                   _____ XP_030653989.1\n",
      " |                                            ______|\n",
      " |                                           |      |_____ XP_031994867.1\n",
      " |___________________________________________|\n",
      "                                             |     _______ XP_002820920.1\n",
      "                                             |    |\n",
      "                                             |____|           _ XP_004049566.3\n",
      "                                                  |      ____|\n",
      "                                                  |     |    |_ XP_003312656.3\n",
      "                                                  |_____|\n",
      "                                                        |     _ AKI72019.1\n",
      "                                                        |____|\n",
      "                                                             |_ NP_066279.2\n",
      "\n"
     ]
    }
   ],
   "source": [
    "from Bio import Phylo\n",
    "Phylo.draw_ascii(upgmatree_NEUROG3)"
   ]
  },
  {
   "cell_type": "code",
   "execution_count": 82,
   "metadata": {},
   "outputs": [
    {
     "name": "stdout",
     "output_type": "stream",
     "text": [
      "Tree(rooted=False)\n",
      "    Clade(branch_length=0, name='Inner6')\n",
      "        Clade(name='Inner4')\n",
      "            Clade(name='Inner2')\n",
      "                Clade(name='NP_066279.2')\n",
      "                Clade(name='AKI72019.1')\n",
      "            Clade(name='Inner3')\n",
      "                Clade(name='XP_004049566.3')\n",
      "                Clade(name='XP_003312656.3')\n",
      "        Clade(name='Inner5')\n",
      "            Clade(name='Inner1')\n",
      "                Clade(name='XP_030653989.1')\n",
      "                Clade(name='XP_031994867.1')\n",
      "            Clade(name='XP_002820920.1')\n",
      "        Clade(name='XP_020928083.1')\n"
     ]
    }
   ],
   "source": [
    "njtree_NEUROG3 = constructor.nj(dm3)\n",
    "print(njtree_NEUROG3)"
   ]
  },
  {
   "cell_type": "code",
   "execution_count": 83,
   "metadata": {},
   "outputs": [
    {
     "name": "stdout",
     "output_type": "stream",
     "text": [
      "         , NP_066279.2\n",
      "     ____|\n",
      "    |    |_ AKI72019.1\n",
      "  __|\n",
      " |  | , XP_004049566.3\n",
      " |  |_|\n",
      " |    | XP_003312656.3\n",
      " |\n",
      "_|         _____ XP_030653989.1\n",
      " | _______|\n",
      " ||       | XP_031994867.1\n",
      " ||\n",
      " ||_ XP_002820920.1\n",
      " |\n",
      " |_____________________________________________________________ XP_020928083.1\n",
      "\n"
     ]
    }
   ],
   "source": [
    "Phylo.draw_ascii(njtree_NEUROG3)"
   ]
  },
  {
   "cell_type": "code",
   "execution_count": 84,
   "metadata": {},
   "outputs": [],
   "source": [
    "# acabar parte de conservação dos dominios e tal (ficha 9)"
   ]
  },
  {
   "cell_type": "markdown",
   "metadata": {},
   "source": [
    "## Regulação"
   ]
  },
  {
   "cell_type": "code",
   "execution_count": null,
   "metadata": {},
   "outputs": [],
   "source": []
  }
 ],
 "metadata": {
  "kernelspec": {
   "display_name": "Python 3",
   "language": "python",
   "name": "python3"
  },
  "language_info": {
   "codemirror_mode": {
    "name": "ipython",
    "version": 3
   },
   "file_extension": ".py",
   "mimetype": "text/x-python",
   "name": "python",
   "nbconvert_exporter": "python",
   "pygments_lexer": "ipython3",
   "version": "3.8.5"
  }
 },
 "nbformat": 4,
 "nbformat_minor": 4
}
