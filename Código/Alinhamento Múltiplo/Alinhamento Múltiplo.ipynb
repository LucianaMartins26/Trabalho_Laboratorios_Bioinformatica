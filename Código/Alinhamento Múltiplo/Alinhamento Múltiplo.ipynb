{
 "cells": [
  {
   "cell_type": "markdown",
   "metadata": {},
   "source": [
    "## Alinhamento Múltiplo"
   ]
  },
  {
   "cell_type": "markdown",
   "metadata": {},
   "source": [
    "### NEUROG3"
   ]
  },
  {
   "cell_type": "code",
   "execution_count": null,
   "metadata": {},
   "outputs": [],
   "source": [
    "with open(\"ProteinBlast_NEUROG3.xml.fasta\", \"w\") as ficheiro:\n",
    "    result_handle = open(\"ProteinBlast_NEUROG3.xml\")\n",
    "    blast_record = NCBIXML.read(result_handle)\n",
    "\n",
    "    for a in blast_record.alignments:\n",
    "        for b in a.hsps:\n",
    "            ficheiro.write(f'\\n>{a.title}\\n{b.sbjct}\\n')"
   ]
  },
  {
   "cell_type": "code",
   "execution_count": null,
   "metadata": {},
   "outputs": [],
   "source": [
    "from Bio.Align.Applications import ClustalwCommandline\n",
    "\n",
    "d = r'\"C:\\Program Files (x86)\\ClustalW2\\clustalw2.exe\"'\n",
    "file = r'\"C:\\Users\\lucia\\OneDrive\\Área de Trabalho\\Documentos\\Universidade\\Cadeiras\\Mestrado - Bioinformática\\ProteinBlast_NEUROG3.xml.fasta\"'\n",
    "\n",
    "cline = ClustalwCommandline(d, infile = file)\n",
    "cline()\n",
    "print(cline)"
   ]
  },
  {
   "cell_type": "markdown",
   "metadata": {},
   "source": [
    "### NOTCH2"
   ]
  },
  {
   "cell_type": "code",
   "execution_count": null,
   "metadata": {},
   "outputs": [],
   "source": [
    "with open(\"ProteinBlast_NOTCH2.xml.fna\", \"w\") as ficheiro:\n",
    "    result_handle = open(\"ProteinBlast_NOTCH2.xml\")\n",
    "    blast_record = NCBIXML.read(result_handle)\n",
    "\n",
    "    for a in blast_record.alignments:\n",
    "        for b in a.hsps:\n",
    "            ficheiro.write(f'\\n>{a.title}\\n{b.sbjct}\\n')"
   ]
  },
  {
   "cell_type": "markdown",
   "metadata": {},
   "source": [
    "#### Tivemos que remover os IDs duplicados do nosso ficheiro"
   ]
  },
  {
   "cell_type": "code",
   "execution_count": null,
   "metadata": {},
   "outputs": [],
   "source": [
    "from Bio.Align.Applications import ClustalwCommandline\n",
    "\n",
    "d = r'\"C:\\Program Files (x86)\\ClustalW2\\clustalw2.exe\"'\n",
    "file = r'\"C:\\Users\\lucia\\OneDrive\\Área de Trabalho\\Documentos\\Universidade\\Cadeiras\\Mestrado - Bioinformática\\ProteinBlast_NOTCH2_noDup.fa\"'\n",
    "\n",
    "cline = ClustalwCommandline(d, infile = file)\n",
    "cline()\n",
    "print(cline)"
   ]
  },
  {
   "cell_type": "markdown",
   "metadata": {},
   "source": [
    "### DSTYK"
   ]
  },
  {
   "cell_type": "code",
   "execution_count": null,
   "metadata": {},
   "outputs": [],
   "source": [
    "with open(\"ProteinBlast_DSTYK.xml.fasta\", \"w\") as ficheiro:\n",
    "    result_handle = open(\"ProteinBlast_DSTYK.xml\")\n",
    "    blast_record = NCBIXML.read(result_handle)\n",
    "\n",
    "    for a in blast_record.alignments:\n",
    "        for b in a.hsps:\n",
    "            ficheiro.write(f'\\n>{a.title}\\n{b.sbjct}\\n')"
   ]
  },
  {
   "cell_type": "code",
   "execution_count": null,
   "metadata": {},
   "outputs": [],
   "source": [
    "from Bio.Align.Applications import ClustalwCommandline\n",
    "\n",
    "d = r'\"C:\\Program Files (x86)\\ClustalW2\\clustalw2.exe\"'\n",
    "file = r'\"C:\\Users\\lucia\\OneDrive\\Área de Trabalho\\Documentos\\Universidade\\Cadeiras\\Mestrado - Bioinformática\\ProteinBlast_DSTYK.xml.fasta\"'\n",
    "\n",
    "cline = ClustalwCommandline(d, infile = file)\n",
    "cline()\n",
    "print(cline)"
   ]
  }
 ],
 "metadata": {
  "kernelspec": {
   "display_name": "Python 3",
   "language": "python",
   "name": "python3"
  },
  "language_info": {
   "codemirror_mode": {
    "name": "ipython",
    "version": 3
   },
   "file_extension": ".py",
   "mimetype": "text/x-python",
   "name": "python",
   "nbconvert_exporter": "python",
   "pygments_lexer": "ipython3",
   "version": "3.8.5"
  }
 },
 "nbformat": 4,
 "nbformat_minor": 4
}
