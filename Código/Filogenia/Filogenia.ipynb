{
 "cells": [
  {
   "cell_type": "markdown",
   "metadata": {},
   "source": [
    "## Filogenia"
   ]
  },
  {
   "cell_type": "markdown",
   "metadata": {},
   "source": [
    "### NEUROG3"
   ]
  },
  {
   "cell_type": "code",
   "execution_count": null,
   "metadata": {},
   "outputs": [],
   "source": [
    "from Bio import Phylo\n",
    "import matplotlib.pyplot as plt\n",
    "\n",
    "plt.rcParams[\"figure.figsize\"] = (15,15)\n",
    "plt.rc('xtick', labelsize=10) \n",
    "plt.rc('ytick', labelsize=10)\n",
    "plt.rc('axes', titlesize=10) \n",
    "plt.rc('axes', labelsize=10)\n",
    "plt.rc('font', size = 10)\n",
    "\n",
    "alignment = open('ProteinBlast_NEUROG3.xml.dnd')\n",
    "tree = Phylo.read(alignment, 'newick')\n",
    "tree.ladderize()\n",
    "Phylo.draw_ascii(tree)\n",
    "\n",
    "tree = tree.as_phyloxml()\n",
    "tree.ladderize()\n",
    "tree.root.color = \"purple\"\n",
    "Phylo.draw(tree)"
   ]
  },
  {
   "cell_type": "markdown",
   "metadata": {},
   "source": [
    "### NOTCH2"
   ]
  },
  {
   "cell_type": "code",
   "execution_count": null,
   "metadata": {},
   "outputs": [],
   "source": [
    "from Bio import Phylo\n",
    "import matplotlib.pyplot as plt\n",
    "\n",
    "plt.rcParams[\"figure.figsize\"] = (15,15)\n",
    "plt.rc('xtick', labelsize=10) \n",
    "plt.rc('ytick', labelsize=10)\n",
    "plt.rc('axes', titlesize=10) \n",
    "plt.rc('axes', labelsize=10)\n",
    "plt.rc('font', size = 10)\n",
    "\n",
    "alignment = open('ProteinBlast_NOTCH2_noDup.dnd')\n",
    "tree = Phylo.read(alignment, 'newick')\n",
    "tree.ladderize()\n",
    "Phylo.draw_ascii(tree)\n",
    "\n",
    "tree = tree.as_phyloxml()\n",
    "tree.ladderize()\n",
    "tree.root.color = \"purple\"\n",
    "Phylo.draw(tree)"
   ]
  },
  {
   "cell_type": "markdown",
   "metadata": {},
   "source": [
    "### DSTYK"
   ]
  },
  {
   "cell_type": "code",
   "execution_count": null,
   "metadata": {},
   "outputs": [],
   "source": [
    "from Bio import Phylo\n",
    "import matplotlib.pyplot as plt\n",
    "\n",
    "plt.rcParams[\"figure.figsize\"] = (15,15)\n",
    "plt.rc('xtick', labelsize=10) \n",
    "plt.rc('ytick', labelsize=10)\n",
    "plt.rc('axes', titlesize=10) \n",
    "plt.rc('axes', labelsize=10)\n",
    "plt.rc('font', size = 10)\n",
    "\n",
    "alignment = open('ProteinBlast_DSTYK.xml.dnd')\n",
    "tree = Phylo.read(alignment, 'newick')\n",
    "tree.ladderize()\n",
    "Phylo.draw_ascii(tree)\n",
    "\n",
    "tree = tree.as_phyloxml()\n",
    "tree.ladderize()\n",
    "tree.root.color = \"purple\"\n",
    "Phylo.draw(tree)"
   ]
  }
 ],
 "metadata": {
  "kernelspec": {
   "display_name": "Python 3",
   "language": "python",
   "name": "python3"
  },
  "language_info": {
   "codemirror_mode": {
    "name": "ipython",
    "version": 3
   },
   "file_extension": ".py",
   "mimetype": "text/x-python",
   "name": "python",
   "nbconvert_exporter": "python",
   "pygments_lexer": "ipython3",
   "version": "3.8.5"
  }
 },
 "nbformat": 4,
 "nbformat_minor": 4
}
