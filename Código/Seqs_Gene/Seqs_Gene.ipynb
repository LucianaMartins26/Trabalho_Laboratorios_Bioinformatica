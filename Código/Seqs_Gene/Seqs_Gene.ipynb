{
 "cells": [
  {
   "cell_type": "markdown",
   "metadata": {},
   "source": [
    "## Análise da sequência e das features presentes no NCBI"
   ]
  },
  {
   "cell_type": "markdown",
   "metadata": {},
   "source": [
    "### Gene NEUROG3"
   ]
  },
  {
   "cell_type": "code",
   "execution_count": null,
   "metadata": {},
   "outputs": [],
   "source": [
    "from Bio import SeqIO\n",
    "from Bio import Entrez\n",
    "\n",
    "Entrez.email = 'lucianacmartins8@gmail.com'\n",
    "search_handler = Entrez.esearch(db = \"nucleotide\", term = \"Homo sapiens[Orgn] AND NEUROG3[Gene]\")\n",
    "\n",
    "search_records = Entrez.read(search_handler)\n",
    "indices_CDS = []\n",
    "\n",
    "for record_id in search_records['IdList']:\n",
    "    fetch_handler = Entrez.efetch(db=\"nucleotide\", id=record_id, rettype=\"gb\", retmode=\"text\")\n",
    "    fetch_records = SeqIO.parse(fetch_handler, 'genbank')\n",
    "    record = SeqIO.read(fetch_handler, 'gb')\n",
    "    SeqIO.write(record, \"NEUROG3_file\", 'gb')"
   ]
  },
  {
   "cell_type": "code",
   "execution_count": null,
   "metadata": {},
   "outputs": [],
   "source": [
    "for record_id in search_records['IdList']:\n",
    "    fetch_handler = Entrez.efetch(db=\"nucleotide\", id=record_id, rettype=\"gb\", retmode=\"text\")\n",
    "    fetch_records = SeqIO.parse(fetch_handler, 'genbank')\n",
    "    \n",
    "    for record in fetch_records:\n",
    "        if record.id == \"NM_020999.4\":\n",
    "            print('Record accession: ', record.id, \"\\n\")\n",
    "            print('Record sequence length: ', len(record.seq), \"\\n\")\n",
    "            print('Record description: ', record.description, \"\\n\")\n",
    "            print('Record annotations: ', record.annotations, \"\\n\")\n",
    "            print('Record external references: ', record.dbxrefs, \"\\n\")\n",
    "            print('Record features count: ', len(record.features), \"\\n\")\n",
    "            print('Record features: ', record.features)\n",
    "        \n",
    "            indices_CDS = []\n",
    "            for n, feature in enumerate(record.features):\n",
    "                if feature.type == \"CDS\":\n",
    "                    indices_CDS.append(n)\n",
    "                    for a in indices_CDS:\n",
    "                        if len(indices_CDS) != 0:\n",
    "                            print(record.features[a].qualifiers['product'], \"\\n\")\n",
    "                            print(record.features[a].qualifiers['translation'])"
   ]
  },
  {
   "cell_type": "markdown",
   "metadata": {},
   "source": [
    "### Gene NOTCH2"
   ]
  },
  {
   "cell_type": "code",
   "execution_count": null,
   "metadata": {},
   "outputs": [],
   "source": [
    "Entrez.email = 'analisboasan@gmail.com'\n",
    "search_handler = Entrez.esearch(db = \"nucleotide\", term = \"Homo sapiens[Orgn] AND NOTCH2[Gene]\") \n",
    "\n",
    "search_records = Entrez.read(search_handler)\n",
    "indices_CDS = []\n",
    "\n",
    "for record_id in search_records['IdList']:\n",
    "    fetch_handler = Entrez.efetch(db=\"nucleotide\", id=record_id, rettype=\"gb\", retmode=\"text\")\n",
    "    fetch_records = SeqIO.parse(fetch_handler, 'genbank')\n",
    "    record = SeqIO.read(fetch_handler, 'gb')\n",
    "    SeqIO.write(record, \"NOTCH2_file\", 'gb')"
   ]
  },
  {
   "cell_type": "code",
   "execution_count": null,
   "metadata": {},
   "outputs": [],
   "source": [
    "for record_id in search_records['IdList']:\n",
    "    fetch_handler = Entrez.efetch(db=\"nucleotide\", id=record_id, rettype=\"gb\", retmode=\"text\")\n",
    "    fetch_records = SeqIO.parse(fetch_handler, 'genbank')\n",
    "    \n",
    "    for record in fetch_records:\n",
    "        if record.id == \"NM_024408.4\":\n",
    "            print('Record accession: ', record.id, \"\\n\")\n",
    "            print('Record sequence length: ', len(record.seq), \"\\n\")\n",
    "            print('Record description: ', record.description, \"\\n\")\n",
    "            print('Record annotations: ', record.annotations, \"\\n\")\n",
    "            print('Record external references: ', record.dbxrefs, \"\\n\")\n",
    "            print('Record features count: ', len(record.features), \"\\n\")\n",
    "            print('Record features: ', record.features, \"\\n\")\n",
    "        \n",
    "            indices_CDS = []\n",
    "            for n, feature in enumerate(record.features):\n",
    "                if feature.type == \"CDS\":\n",
    "                    indices_CDS.append(n)\n",
    "                    for a in indices_CDS:\n",
    "                        if len(indices_CDS) != 0:\n",
    "                            print(record.features[a].qualifiers['product'], \"\\n\")\n",
    "                            print(record.features[a].qualifiers['translation'])"
   ]
  },
  {
   "cell_type": "markdown",
   "metadata": {},
   "source": [
    "### Gene DSTYK"
   ]
  },
  {
   "cell_type": "code",
   "execution_count": null,
   "metadata": {},
   "outputs": [],
   "source": [
    "from Bio import SeqIO\n",
    "from Bio import Entrez\n",
    "\n",
    "Entrez.email = 'bruna_dfa@hotmail.com'\n",
    "search_handler = Entrez.esearch(db = \"nucleotide\", term = \"Homo sapiens[Orgn] AND DSTYK[Gene]\") \n",
    "\n",
    "search_records = Entrez.read(search_handler)\n",
    "indices_CDS = []\n",
    "\n",
    "for record_id in search_records['IdList']:\n",
    "    fetch_handler = Entrez.efetch(db=\"nucleotide\", id=record_id, rettype=\"gb\", retmode=\"text\")\n",
    "    fetch_records = SeqIO.parse(fetch_handler, 'genbank')\n",
    "    record = SeqIO.read(fetch_handler, 'gb')\n",
    "    SeqIO.write(record, \"DSTYK_file\", 'gb')"
   ]
  },
  {
   "cell_type": "code",
   "execution_count": null,
   "metadata": {},
   "outputs": [],
   "source": [
    "for record_id in search_records['IdList']:\n",
    "    fetch_handler = Entrez.efetch(db=\"nucleotide\", id=record_id, rettype=\"gb\", retmode=\"text\")\n",
    "    fetch_records = SeqIO.parse(fetch_handler, 'genbank')\n",
    "\n",
    "    for record in fetch_records:\n",
    "        if record.id == \"BC048204.1\":\n",
    "            print('Record accession: ', record.id, \"\\n\")\n",
    "            print('Record sequence length: ', len(record.seq), \"\\n\")\n",
    "            print('Record description: ', record.description, \"\\n\")\n",
    "            print('Record annotations: ', record.annotations, \"\\n\")\n",
    "            print('Record external references: ', record.dbxrefs, \"\\n\")\n",
    "            print('Record features count: ', len(record.features), \"\\n\")\n",
    "            print('Record features: ', record.features, \"\\n\")\n",
    "        \n",
    "            indices_CDS = []\n",
    "            for n, feature in enumerate(record.features):\n",
    "                if feature.type == \"CDS\":\n",
    "                    indices_CDS.append(n)\n",
    "                    for a in indices_CDS:\n",
    "                        if len(indices_CDS) != 0:\n",
    "                            print(record.features[a].qualifiers['product'], \"\\n\")\n",
    "                            print(record.features[a].qualifiers['translation'])"
   ]
  }
 ],
 "metadata": {
  "kernelspec": {
   "display_name": "Python 3",
   "language": "python",
   "name": "python3"
  },
  "language_info": {
   "codemirror_mode": {
    "name": "ipython",
    "version": 3
   },
   "file_extension": ".py",
   "mimetype": "text/x-python",
   "name": "python",
   "nbconvert_exporter": "python",
   "pygments_lexer": "ipython3",
   "version": "3.8.5"
  }
 },
 "nbformat": 4,
 "nbformat_minor": 4
}
