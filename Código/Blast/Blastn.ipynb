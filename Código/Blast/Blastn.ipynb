{
 "cells": [
  {
   "cell_type": "markdown",
   "metadata": {},
   "source": [
    "## Análise de homologias por BLASTn"
   ]
  },
  {
   "cell_type": "markdown",
   "metadata": {},
   "source": [
    "### NEUROG3"
   ]
  },
  {
   "cell_type": "code",
   "execution_count": null,
   "metadata": {},
   "outputs": [],
   "source": [
    "from Bio import SeqIO\n",
    "SeqIO.convert(\"NEUROG3_file\", \"genbank\", \"Sequence_NEUROG3.fna\", \"fasta\")"
   ]
  },
  {
   "cell_type": "code",
   "execution_count": null,
   "metadata": {},
   "outputs": [],
   "source": [
    "from Bio.Blast import NCBIXML \n",
    "from Bio.Blast import NCBIWWW \n",
    "\n",
    "record1 = SeqIO.read(open(\"Sequence_NEUROG3.fna\"), format=\"fasta\")"
   ]
  },
  {
   "cell_type": "code",
   "execution_count": null,
   "metadata": {},
   "outputs": [],
   "source": [
    "result_handle1 = NCBIWWW.qblast(\"blastn\", \"nt\", record1.format(\"fasta\"))"
   ]
  },
  {
   "cell_type": "code",
   "execution_count": null,
   "metadata": {},
   "outputs": [],
   "source": [
    "save_file1 = open(\"Blast_NEUROG3.xml\", \"w\")\n",
    "save_file1.write(result_handle1.read()) \n",
    "save_file1.close()\n",
    "result_handle1.close()"
   ]
  },
  {
   "cell_type": "code",
   "execution_count": null,
   "metadata": {},
   "outputs": [],
   "source": [
    "from Bio import SearchIO\n",
    "\n",
    "for qresult in SearchIO.read(\"Blast_NEUROG3.xml\", \"blast-xml\"):\n",
    "    print(qresult)"
   ]
  },
  {
   "cell_type": "markdown",
   "metadata": {},
   "source": [
    "### NOTCH2"
   ]
  },
  {
   "cell_type": "code",
   "execution_count": null,
   "metadata": {},
   "outputs": [],
   "source": [
    "SeqIO.convert(\"NOTCH2_file\", \"genbank\", \"Sequence_NOTCH2.fna\", \"fasta\")"
   ]
  },
  {
   "cell_type": "code",
   "execution_count": null,
   "metadata": {},
   "outputs": [],
   "source": [
    "from Bio.Blast import NCBIXML \n",
    "from Bio.Blast import NCBIWWW \n",
    "from Bio import SeqIO\n",
    "\n",
    "record2 = SeqIO.read(open(\"Sequence_NOTCH2.fna\"), format=\"fasta\")"
   ]
  },
  {
   "cell_type": "code",
   "execution_count": null,
   "metadata": {},
   "outputs": [],
   "source": [
    "result_handle2 = NCBIWWW.qblast(\"blastn\", \"nt\", record2.format(\"fasta\"))"
   ]
  },
  {
   "cell_type": "code",
   "execution_count": null,
   "metadata": {},
   "outputs": [],
   "source": [
    "save_file2 = open(\"Blast_NOTCH2.xml\", \"w\")\n",
    "save_file2.write(result_handle2.read()) \n",
    "save_file2.close()\n",
    "result_handle2.close()"
   ]
  },
  {
   "cell_type": "code",
   "execution_count": null,
   "metadata": {},
   "outputs": [],
   "source": [
    "from Bio import SearchIO\n",
    "\n",
    "for qresult in SearchIO.read(\"Blast_NOTCH2.xml\", \"blast-xml\"):\n",
    "    print(qresult)"
   ]
  },
  {
   "cell_type": "markdown",
   "metadata": {},
   "source": [
    "### DSTYK"
   ]
  },
  {
   "cell_type": "code",
   "execution_count": null,
   "metadata": {},
   "outputs": [],
   "source": [
    "SeqIO.convert(\"DSTYK_file\", \"genbank\", \"Sequence_DSTYK.fna\", \"fasta\")"
   ]
  },
  {
   "cell_type": "code",
   "execution_count": null,
   "metadata": {},
   "outputs": [],
   "source": [
    "from Bio.Blast import NCBIXML \n",
    "from Bio.Blast import NCBIWWW \n",
    "from Bio import SeqIO\n",
    "\n",
    "record3 = SeqIO.read(open(\"Sequence_DSTYK.fna\"), format=\"fasta\")"
   ]
  },
  {
   "cell_type": "code",
   "execution_count": null,
   "metadata": {},
   "outputs": [],
   "source": [
    "result_handle3 = NCBIWWW.qblast(\"blastn\", \"nt\", record3.format(\"fasta\"))"
   ]
  },
  {
   "cell_type": "code",
   "execution_count": null,
   "metadata": {},
   "outputs": [],
   "source": [
    "save_file3 = open(\"Blast_DSTYK.xml\", \"w\")\n",
    "save_file3.write(result_handle3.read()) \n",
    "save_file3.close()\n",
    "result_handle3.close()"
   ]
  },
  {
   "cell_type": "code",
   "execution_count": null,
   "metadata": {},
   "outputs": [],
   "source": [
    "from Bio import SearchIO\n",
    "\n",
    "for qresult in SearchIO.read(\"Blast_DSTYK.xml\", \"blast-xml\"):\n",
    "    print(qresult)"
   ]
  }
 ],
 "metadata": {
  "kernelspec": {
   "display_name": "Python 3",
   "language": "python",
   "name": "python3"
  },
  "language_info": {
   "codemirror_mode": {
    "name": "ipython",
    "version": 3
   },
   "file_extension": ".py",
   "mimetype": "text/x-python",
   "name": "python",
   "nbconvert_exporter": "python",
   "pygments_lexer": "ipython3",
   "version": "3.8.5"
  }
 },
 "nbformat": 4,
 "nbformat_minor": 4
}
