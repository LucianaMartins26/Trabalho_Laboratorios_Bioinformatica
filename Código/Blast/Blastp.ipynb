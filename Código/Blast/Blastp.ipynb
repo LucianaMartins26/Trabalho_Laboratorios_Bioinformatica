{
 "cells": [
  {
   "cell_type": "markdown",
   "metadata": {},
   "source": [
    "## Análise de homologias por BLASTp"
   ]
  },
  {
   "cell_type": "markdown",
   "metadata": {},
   "source": [
    "### Protein NEUROG3"
   ]
  },
  {
   "cell_type": "code",
   "execution_count": null,
   "metadata": {},
   "outputs": [],
   "source": [
    "from Bio import SeqIO\n",
    "SeqIO.convert(\"NEUROG3_proteinfile\", \"genbank\", \"ProteinSequence_NEUROG3.fna\", \"fasta\")"
   ]
  },
  {
   "cell_type": "code",
   "execution_count": null,
   "metadata": {},
   "outputs": [],
   "source": [
    "from Bio.Blast import NCBIXML \n",
    "from Bio.Blast import NCBIWWW \n",
    "\n",
    "record1 = SeqIO.read(open(\"ProteinSequence_NEUROG3.fna\"), format=\"fasta\")"
   ]
  },
  {
   "cell_type": "code",
   "execution_count": null,
   "metadata": {},
   "outputs": [],
   "source": [
    "result_handle1 = NCBIWWW.qblast(\"blastp\", \"swissprot\", record1.format(\"fasta\"), expect = 0.01)"
   ]
  },
  {
   "cell_type": "code",
   "execution_count": null,
   "metadata": {},
   "outputs": [],
   "source": [
    "save_file1 = open(\"ProteinBlast_NEUROG3.xml\", \"w\")\n",
    "save_file1.write(result_handle1.read()) \n",
    "save_file1.close()\n",
    "result_handle1.close()"
   ]
  },
  {
   "cell_type": "code",
   "execution_count": null,
   "metadata": {},
   "outputs": [],
   "source": [
    "for qresult in SearchIO.read(\"ProteinBlast_NEUROG3.xml\", \"blast-xml\"):\n",
    "    print(qresult)"
   ]
  },
  {
   "cell_type": "markdown",
   "metadata": {},
   "source": [
    "### Protein NOTCH2"
   ]
  },
  {
   "cell_type": "code",
   "execution_count": null,
   "metadata": {},
   "outputs": [],
   "source": [
    "from Bio import SeqIO\n",
    "SeqIO.convert(\"NOTCH2_proteinfile\", \"genbank\", \"ProteinSequence_NOTCH2.fna\", \"fasta\")"
   ]
  },
  {
   "cell_type": "code",
   "execution_count": null,
   "metadata": {},
   "outputs": [],
   "source": [
    "from Bio.Blast import NCBIXML \n",
    "from Bio.Blast import NCBIWWW \n",
    "from Bio import SeqIO\n",
    "\n",
    "record2 = SeqIO.read(open(\"ProteinSequence_NOTCH2.fna\"), format=\"fasta\")"
   ]
  },
  {
   "cell_type": "code",
   "execution_count": null,
   "metadata": {},
   "outputs": [],
   "source": [
    "result_handle2 = NCBIWWW.qblast(\"blastp\", \"swissprot\", record2.format(\"fasta\"), expect = 0.01)"
   ]
  },
  {
   "cell_type": "code",
   "execution_count": null,
   "metadata": {},
   "outputs": [],
   "source": [
    "save_file2 = open(\"ProteinBlast_NOTCH2.xml\", \"w\")\n",
    "save_file2.write(result_handle2.read())\n",
    "save_file2.close()\n",
    "result_handle2.close()"
   ]
  },
  {
   "cell_type": "code",
   "execution_count": null,
   "metadata": {},
   "outputs": [],
   "source": [
    "from Bio import SearchIO\n",
    "for qresult in SearchIO.read(\"ProteinBlast_NOTCH2.xml\", \"blast-xml\"):\n",
    "    print(qresult)"
   ]
  },
  {
   "cell_type": "markdown",
   "metadata": {},
   "source": [
    "### Protein DSTYK"
   ]
  },
  {
   "cell_type": "code",
   "execution_count": null,
   "metadata": {},
   "outputs": [],
   "source": [
    "SeqIO.convert(\"DSTYK_proteinfile\", \"genbank\", \"ProteinSequence_DSTYK.fna\", \"fasta\")"
   ]
  },
  {
   "cell_type": "code",
   "execution_count": null,
   "metadata": {},
   "outputs": [],
   "source": [
    "from Bio.Blast import NCBIXML \n",
    "from Bio.Blast import NCBIWWW \n",
    "from Bio import SeqIO\n",
    "\n",
    "record3 = SeqIO.read(open(\"ProteinSequence_DSTYK.fna\"), format=\"fasta\")"
   ]
  },
  {
   "cell_type": "code",
   "execution_count": null,
   "metadata": {},
   "outputs": [],
   "source": [
    "result_handle3 = NCBIWWW.qblast(\"blastp\", \"swissprot\", record3.format(\"fasta\"), expect = 0.01)"
   ]
  },
  {
   "cell_type": "code",
   "execution_count": null,
   "metadata": {},
   "outputs": [],
   "source": [
    "save_file3 = open(\"ProteinBlast_DSTYK.xml\", \"w\")\n",
    "save_file3.write(result_handle3.read()) \n",
    "save_file3.close()\n",
    "result_handle3.close()"
   ]
  },
  {
   "cell_type": "code",
   "execution_count": null,
   "metadata": {},
   "outputs": [],
   "source": [
    "for qresult in SearchIO.read(\"ProteinBlast_DSTYK.xml\", \"blast-xml\"):\n",
    "    print(qresult)"
   ]
  }
 ],
 "metadata": {
  "kernelspec": {
   "display_name": "Python 3",
   "language": "python",
   "name": "python3"
  },
  "language_info": {
   "codemirror_mode": {
    "name": "ipython",
    "version": 3
   },
   "file_extension": ".py",
   "mimetype": "text/x-python",
   "name": "python",
   "nbconvert_exporter": "python",
   "pygments_lexer": "ipython3",
   "version": "3.8.5"
  }
 },
 "nbformat": 4,
 "nbformat_minor": 4
}
