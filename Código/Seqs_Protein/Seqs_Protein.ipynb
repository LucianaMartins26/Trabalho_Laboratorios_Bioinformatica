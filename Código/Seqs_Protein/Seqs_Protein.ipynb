{
 "cells": [
  {
   "cell_type": "markdown",
   "metadata": {},
   "source": [
    "## Análise da sequência e das features presentes no NCBI"
   ]
  },
  {
   "cell_type": "markdown",
   "metadata": {},
   "source": [
    "### Protein NEUROG3"
   ]
  },
  {
   "cell_type": "code",
   "execution_count": null,
   "metadata": {},
   "outputs": [],
   "source": [
    "from Bio import SeqIO\n",
    "from Bio import Entrez\n",
    "\n",
    "Entrez.email = 'lucianacmartins8@gmail.com'\n",
    "handle = Entrez.esearch(db=\"protein\", term=\"Homo sapiens[Orgn] AND NEUROG3[Gene]\")\n",
    "\n",
    "search_records = Entrez.read(handle)\n",
    "for record_id in search_records['IdList']:\n",
    "    handle2 = Entrez.efetch(db=\"protein\", id=record_id, rettype=\"gb\", retmode=\"text\")\n",
    "    fetch_records = SeqIO.parse(handle2, 'genbank')\n",
    "    record = SeqIO.read(handle2, 'gb')\n",
    "    SeqIO.write(record, \"NEUROG3_proteinfile\", 'gb')"
   ]
  },
  {
   "cell_type": "code",
   "execution_count": null,
   "metadata": {},
   "outputs": [],
   "source": [
    "for record_id in search_records['IdList']:\n",
    "    handle2 = Entrez.efetch(db=\"protein\", id=record_id, rettype=\"gb\", retmode=\"text\")\n",
    "    fetch_records = SeqIO.parse(handle2, 'genbank')\n",
    "    for record in fetch_records:\n",
    "        if record.id == \"NP_066279.2\":\n",
    "            print('Record accession: ', record.id, \"\\n\")\n",
    "            print('Record sequence length: ', len(record.seq), \"\\n\")\n",
    "            print('Record sequence: ', record.seq, \"\\n\")\n",
    "            print('Record description: ', record.description, \"\\n\")\n",
    "            print('Record taxonomy: ', record.annotations[\"taxonomy\"], \"\\n\")\n",
    "            print('Record organism: ', record.annotations[\"organism\"], \"\\n\")\n",
    "            print('Record number of features: ', len(record.features), \"\\n\")\n",
    "            print('Record features: ', record.features)"
   ]
  },
  {
   "cell_type": "markdown",
   "metadata": {},
   "source": [
    "### Protein NOTCH2"
   ]
  },
  {
   "cell_type": "code",
   "execution_count": null,
   "metadata": {},
   "outputs": [],
   "source": [
    "from Bio import SeqIO\n",
    "from Bio import Entrez\n",
    "\n",
    "Entrez.email = 'analisboasan@gmail.com'\n",
    "handle = Entrez.esearch(db = \"protein\", term = \"Homo sapiens[Orgn] AND NOTCH2[Gene]\") \n",
    "\n",
    "search_records = Entrez.read(handle)\n",
    "for record_id in search_records['IdList']:\n",
    "    handle2 = Entrez.efetch(db=\"protein\", id=record_id, rettype=\"gb\", retmode=\"text\")\n",
    "    fetch_records = SeqIO.parse(handle2, 'genbank')\n",
    "    record = SeqIO.read(handle2, 'gb')\n",
    "    SeqIO.write(record, \"NOTCH2_proteinfile\", 'gb')"
   ]
  },
  {
   "cell_type": "code",
   "execution_count": null,
   "metadata": {},
   "outputs": [],
   "source": [
    "for record_id in search_records['IdList']:\n",
    "    handle2 = Entrez.efetch(db=\"protein\", id=record_id, rettype=\"gb\", retmode=\"text\")\n",
    "    fetch_records = SeqIO.parse(handle2, 'genbank')\n",
    "    for record in fetch_records:\n",
    "        if record.id == \"Q04721.3\":\n",
    "            print('Record accession: ', record.id, \"\\n\")\n",
    "            print('Record sequence length: ', len(record.seq), \"\\n\")\n",
    "            print('Record sequence: ', record.seq, \"\\n\")\n",
    "            print('Record description: ', record.description, \"\\n\")\n",
    "            print('Record taxonomy: ', record.annotations[\"taxonomy\"], \"\\n\")\n",
    "            print('Record organism: ', record.annotations[\"organism\"], \"\\n\")\n",
    "            print('Record number of features: ', len(record.features), \"\\n\")\n",
    "            print('Record features: ', record.features)"
   ]
  },
  {
   "cell_type": "markdown",
   "metadata": {},
   "source": [
    "### Protein DSTYK"
   ]
  },
  {
   "cell_type": "code",
   "execution_count": null,
   "metadata": {},
   "outputs": [],
   "source": [
    "from Bio import SeqIO\n",
    "from Bio import Entrez\n",
    "\n",
    "Entrez.email = 'bruna_dfa@hotmail.com'\n",
    "handle = Entrez.esearch(db = \"protein\", term = \"Homo sapiens[Orgn] AND DSTYK[Gene]\")\n",
    "\n",
    "search_records = Entrez.read(handle)\n",
    "for record_id in search_records['IdList']:\n",
    "    handle2 = Entrez.efetch(db=\"protein\", id=record_id, rettype=\"gb\", retmode=\"text\")\n",
    "    fetch_records = SeqIO.parse(handle2, 'genbank')\n",
    "    record = SeqIO.read(handle2, 'gb')\n",
    "    SeqIO.write(record, \"DSTYK_proteinfile\", 'gb')"
   ]
  },
  {
   "cell_type": "code",
   "execution_count": null,
   "metadata": {},
   "outputs": [],
   "source": [
    "for record_id in search_records['IdList']:\n",
    "    handle2 = Entrez.efetch(db=\"protein\", id=record_id, rettype=\"gb\", retmode=\"text\")\n",
    "    fetch_records = SeqIO.parse(handle2, 'genbank')\n",
    "    for record in fetch_records:\n",
    "        if record.id == \"AAH48204.1\":\n",
    "            print('Record accession: ', record.id, \"\\n\")\n",
    "            print('Record sequence length: ', len(record.seq), \"\\n\")\n",
    "            print('Record sequence: ', record.seq, \"\\n\")\n",
    "            print('Record description: ', record.description, \"\\n\")\n",
    "            print('Record taxonomy: ', record.annotations[\"taxonomy\"], \"\\n\")\n",
    "            print('Record organism: ', record.annotations[\"organism\"], \"\\n\")\n",
    "            print('Record number of features: ', len(record.features), \"\\n\")\n",
    "            print('Record features: ', record.features)"
   ]
  }
 ],
 "metadata": {
  "kernelspec": {
   "display_name": "Python 3",
   "language": "python",
   "name": "python3"
  },
  "language_info": {
   "codemirror_mode": {
    "name": "ipython",
    "version": 3
   },
   "file_extension": ".py",
   "mimetype": "text/x-python",
   "name": "python",
   "nbconvert_exporter": "python",
   "pygments_lexer": "ipython3",
   "version": "3.8.5"
  }
 },
 "nbformat": 4,
 "nbformat_minor": 4
}
